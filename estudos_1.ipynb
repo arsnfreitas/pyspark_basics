{
 "cells": [
  {
   "cell_type": "markdown",
   "metadata": {
    "application/vnd.databricks.v1+cell": {
     "cellMetadata": {
      "byteLimit": 2048000,
      "rowLimit": 10000
     },
     "inputWidgets": {},
     "nuid": "6c2f4ca1-a70c-48a4-91ca-5e00354cab62",
     "showTitle": false,
     "title": ""
    }
   },
   "source": [
    "# Estudos Pyspark e SQL"
   ]
  },
  {
   "cell_type": "markdown",
   "metadata": {
    "application/vnd.databricks.v1+cell": {
     "cellMetadata": {
      "byteLimit": 2048000,
      "rowLimit": 10000
     },
     "inputWidgets": {},
     "nuid": "8423ad87-239a-4f34-8612-631e81cba292",
     "showTitle": false,
     "title": ""
    }
   },
   "source": [
    "## Pyspark session"
   ]
  },
  {
   "cell_type": "code",
   "execution_count": 0,
   "metadata": {
    "application/vnd.databricks.v1+cell": {
     "cellMetadata": {
      "byteLimit": 2048000,
      "rowLimit": 10000
     },
     "inputWidgets": {},
     "nuid": "df5c0326-c882-4e32-8ba5-cf667fbea981",
     "showTitle": false,
     "title": ""
    }
   },
   "outputs": [],
   "source": [
    "# !pip install pyspark"
   ]
  },
  {
   "cell_type": "code",
   "execution_count": 0,
   "metadata": {
    "application/vnd.databricks.v1+cell": {
     "cellMetadata": {
      "byteLimit": 2048000,
      "rowLimit": 10000
     },
     "inputWidgets": {},
     "nuid": "5b9833fb-ddeb-47fe-9bb9-91bac93cc7ca",
     "showTitle": false,
     "title": ""
    }
   },
   "outputs": [],
   "source": [
    "from pyspark.sql import SparkSession"
   ]
  },
  {
   "cell_type": "code",
   "execution_count": 0,
   "metadata": {
    "application/vnd.databricks.v1+cell": {
     "cellMetadata": {
      "byteLimit": 2048000,
      "rowLimit": 10000
     },
     "inputWidgets": {},
     "nuid": "c153c6a9-c895-4ee8-9c4c-b89e0b59d825",
     "showTitle": false,
     "title": ""
    }
   },
   "outputs": [],
   "source": [
    "spark = SparkSession.builder.appName('DataFrame').getOrCreate()"
   ]
  },
  {
   "cell_type": "code",
   "execution_count": 0,
   "metadata": {
    "application/vnd.databricks.v1+cell": {
     "cellMetadata": {
      "byteLimit": 2048000,
      "rowLimit": 10000
     },
     "inputWidgets": {},
     "nuid": "4aa82d5e-c637-4d01-ba9d-b753c3b9a9e3",
     "showTitle": false,
     "title": ""
    }
   },
   "outputs": [],
   "source": [
    "spark"
   ]
  },
  {
   "cell_type": "markdown",
   "metadata": {
    "application/vnd.databricks.v1+cell": {
     "cellMetadata": {
      "byteLimit": 2048000,
      "rowLimit": 10000
     },
     "inputWidgets": {},
     "nuid": "09ebac57-7b66-4b3b-a733-cc6d5ba78900",
     "showTitle": false,
     "title": ""
    }
   },
   "source": [
    "## Arquivos csv"
   ]
  },
  {
   "cell_type": "code",
   "execution_count": 0,
   "metadata": {
    "application/vnd.databricks.v1+cell": {
     "cellMetadata": {
      "byteLimit": 2048000,
      "rowLimit": 10000
     },
     "inputWidgets": {},
     "nuid": "d0a53046-b00d-4fef-8276-6ac3ee987aa0",
     "showTitle": false,
     "title": ""
    }
   },
   "outputs": [],
   "source": [
    "# ler arquivo csv (option caso não reconheça o header na primeira linha)\n",
    "# outra opção spark.read.option('header', 'true').csv('nome_arquivo.csv', inferSchema = True).show() (ou sem .show())\n",
    "# outra opção spark.read.csv('nome_arquivo.csv', header, = True, inferSchema = True).show() (ou sem .show())\n",
    "\n",
    "df1 = spark.read.format(\"csv\").option(\"header\", \"true\").load(\"dbfs:/FileStore/shared_uploads/arsnfreitas@gmail.com/marca_carro.csv\")\n",
    "df2 = spark.read.format(\"csv\").option(\"header\", \"true\").load(\"dbfs:/FileStore/shared_uploads/arsnfreitas@gmail.com/marcas_duplicadas.csv\")\n",
    "df3 = spark.read.format(\"csv\").option(\"header\", \"true\").load(\"dbfs:/FileStore/shared_uploads/arsnfreitas@gmail.com/modelo_carro.csv\")"
   ]
  },
  {
   "cell_type": "code",
   "execution_count": 0,
   "metadata": {
    "application/vnd.databricks.v1+cell": {
     "cellMetadata": {
      "byteLimit": 2048000,
      "rowLimit": 10000
     },
     "inputWidgets": {},
     "nuid": "a760da91-e1aa-410e-bc08-6bf00b81f5c4",
     "showTitle": false,
     "title": ""
    }
   },
   "outputs": [],
   "source": [
    "display(df1.head(2))"
   ]
  },
  {
   "cell_type": "code",
   "execution_count": 0,
   "metadata": {
    "application/vnd.databricks.v1+cell": {
     "cellMetadata": {
      "byteLimit": 2048000,
      "rowLimit": 10000
     },
     "inputWidgets": {},
     "nuid": "59cffb6e-4ab8-4c7a-af7e-6a462c9ed45a",
     "showTitle": false,
     "title": ""
    }
   },
   "outputs": [],
   "source": [
    "# função display exibe os resultados\n",
    "display(df3)"
   ]
  },
  {
   "cell_type": "markdown",
   "metadata": {
    "application/vnd.databricks.v1+cell": {
     "cellMetadata": {
      "byteLimit": 2048000,
      "rowLimit": 10000
     },
     "inputWidgets": {},
     "nuid": "fd8743bb-2fd5-4863-8e2d-62448cf22c22",
     "showTitle": false,
     "title": ""
    }
   },
   "source": [
    "## Selecionando colunas"
   ]
  },
  {
   "cell_type": "code",
   "execution_count": 0,
   "metadata": {
    "application/vnd.databricks.v1+cell": {
     "cellMetadata": {
      "byteLimit": 2048000,
      "rowLimit": 10000
     },
     "inputWidgets": {},
     "nuid": "1aae6a00-cb07-4c4d-8e5a-676115d07ab8",
     "showTitle": false,
     "title": ""
    }
   },
   "outputs": [],
   "source": [
    "# exibir todas as colunas\n",
    "df3.columns"
   ]
  },
  {
   "cell_type": "code",
   "execution_count": 0,
   "metadata": {
    "application/vnd.databricks.v1+cell": {
     "cellMetadata": {
      "byteLimit": 2048000,
      "rowLimit": 10000
     },
     "inputWidgets": {},
     "nuid": "5a5ce005-7425-408c-b848-6d8b743ee9b2",
     "showTitle": false,
     "title": ""
    }
   },
   "outputs": [],
   "source": [
    "# selecionar coluna\n",
    "df3.select('modelo_carro')"
   ]
  },
  {
   "cell_type": "code",
   "execution_count": 0,
   "metadata": {
    "application/vnd.databricks.v1+cell": {
     "cellMetadata": {
      "byteLimit": 2048000,
      "rowLimit": 10000
     },
     "inputWidgets": {},
     "nuid": "602366b3-4303-4723-9ac6-4a5d82447ac9",
     "showTitle": false,
     "title": ""
    }
   },
   "outputs": [],
   "source": [
    "# selecionar coluna e exibí-la (poderia usar o display())\n",
    "df3.select('modelo_carro').show()"
   ]
  },
  {
   "cell_type": "code",
   "execution_count": 0,
   "metadata": {
    "application/vnd.databricks.v1+cell": {
     "cellMetadata": {
      "byteLimit": 2048000,
      "rowLimit": 10000
     },
     "inputWidgets": {},
     "nuid": "b071fac2-aa14-4788-b13f-d19ede704866",
     "showTitle": false,
     "title": ""
    }
   },
   "outputs": [],
   "source": [
    "# selecionar colunas\n",
    "display(df3.select(['id_carro', 'modelo_carro']))"
   ]
  },
  {
   "cell_type": "code",
   "execution_count": 0,
   "metadata": {
    "application/vnd.databricks.v1+cell": {
     "cellMetadata": {
      "byteLimit": 2048000,
      "rowLimit": 10000
     },
     "inputWidgets": {},
     "nuid": "e49fc10f-6615-4aed-84b2-fbafc4235f56",
     "showTitle": false,
     "title": ""
    }
   },
   "outputs": [],
   "source": [
    "# selecionar colunas\n",
    "display(df3[['id_carro', 'modelo_carro']])"
   ]
  },
  {
   "cell_type": "code",
   "execution_count": 0,
   "metadata": {
    "application/vnd.databricks.v1+cell": {
     "cellMetadata": {
      "byteLimit": 2048000,
      "rowLimit": 10000
     },
     "inputWidgets": {},
     "nuid": "7eb366af-5357-423b-aabb-fef37288ecee",
     "showTitle": false,
     "title": ""
    }
   },
   "outputs": [],
   "source": [
    "# describe() das variáveis\n",
    "display(df3.describe())"
   ]
  },
  {
   "cell_type": "markdown",
   "metadata": {
    "application/vnd.databricks.v1+cell": {
     "cellMetadata": {
      "byteLimit": 2048000,
      "rowLimit": 10000
     },
     "inputWidgets": {},
     "nuid": "be75d957-4525-4a2f-b982-4ce16e2b3487",
     "showTitle": false,
     "title": ""
    }
   },
   "source": [
    "## Adicionando, removendo e renomenado colunas"
   ]
  },
  {
   "cell_type": "code",
   "execution_count": 0,
   "metadata": {
    "application/vnd.databricks.v1+cell": {
     "cellMetadata": {
      "byteLimit": 2048000,
      "rowLimit": 10000
     },
     "inputWidgets": {},
     "nuid": "135deb04-9fb6-456c-8a58-229b61ed54e2",
     "showTitle": false,
     "title": ""
    }
   },
   "outputs": [],
   "source": [
    "# adicionando coluna, removendo cifrão e alterando tipo da coluna preco\n",
    "df_colunas = df3.withColumn('preco', regexp_replace('preco', '\\$', '')\n",
    "    ).withColumn('preco' , col('preco').cast('double')\n",
    "    ).withColumn('preco_inflacionado', col('preco')*2)\n",
    "                            \n",
    "display(df_colunas)"
   ]
  },
  {
   "cell_type": "code",
   "execution_count": 0,
   "metadata": {
    "application/vnd.databricks.v1+cell": {
     "cellMetadata": {
      "byteLimit": 2048000,
      "rowLimit": 10000
     },
     "inputWidgets": {},
     "nuid": "7de7ab93-7c8f-4b90-b10e-9e070bd635f1",
     "showTitle": false,
     "title": ""
    }
   },
   "outputs": [],
   "source": [
    "# removendo coluna preco_inflacionado\n",
    "df_colunas = df_colunas.drop('preco_inflacionado')\n",
    "                            \n",
    "display(df_colunas)"
   ]
  },
  {
   "cell_type": "code",
   "execution_count": 0,
   "metadata": {
    "application/vnd.databricks.v1+cell": {
     "cellMetadata": {
      "byteLimit": 2048000,
      "rowLimit": 10000
     },
     "inputWidgets": {},
     "nuid": "11b3caa4-0e12-4a29-890c-ca2e69cf557e",
     "showTitle": false,
     "title": ""
    }
   },
   "outputs": [],
   "source": [
    "# renomeando colunas\n",
    "# df3.columns = ['id_carro', 'modelo_carro', 'preco', 'cod_marca']\n",
    "# df_colunas = df_colunas.withColumnRenamed(['id_carro', 'modelo_carro'], ['id', 'modelo'])\n",
    "df_colunas = df_colunas.withColumnRenamed('id_carro', 'id'\n",
    "                      ).withColumnRenamed('modelo_carro','modelo')\n",
    "\n",
    "display(df_colunas)"
   ]
  },
  {
   "cell_type": "markdown",
   "metadata": {
    "application/vnd.databricks.v1+cell": {
     "cellMetadata": {
      "byteLimit": 2048000,
      "rowLimit": 10000
     },
     "inputWidgets": {},
     "nuid": "d5f2c598-e7af-44d6-a7ee-8b341a1ab77d",
     "showTitle": false,
     "title": ""
    }
   },
   "source": [
    "## Salvando arquivos"
   ]
  },
  {
   "cell_type": "code",
   "execution_count": 0,
   "metadata": {
    "application/vnd.databricks.v1+cell": {
     "cellMetadata": {
      "byteLimit": 2048000,
      "rowLimit": 10000
     },
     "inputWidgets": {},
     "nuid": "27d08144-8668-4dbd-9ba5-7e7670904dcb",
     "showTitle": false,
     "title": ""
    }
   },
   "outputs": [],
   "source": [
    "# salvar arquivo na pasta indicada\n",
    "# df3.write.format('csv').save('/estudos/modelo_carros')\n",
    "# df1.write.format('csv').save('/estudos/marcas')\n",
    "# df2.write.format('csv').save('/estudos/marcas_duplicadas')\n",
    "\n",
    "# sobreescrever arquivo na pasta indicada\n",
    "df3.write.format('csv').mode('overwrite').save('/estudos/modelo_carros')\n",
    "df1.write.format('csv').mode('overwrite').save('/estudos/marcas')\n",
    "df2.write.format('csv').mode('overwrite').save('/estudos/marcas_duplicadas')"
   ]
  },
  {
   "cell_type": "code",
   "execution_count": 0,
   "metadata": {
    "application/vnd.databricks.v1+cell": {
     "cellMetadata": {
      "byteLimit": 2048000,
      "rowLimit": 10000
     },
     "inputWidgets": {},
     "nuid": "44233702-d258-4608-b33a-7c5782a216b2",
     "showTitle": false,
     "title": ""
    }
   },
   "outputs": [],
   "source": [
    "# exibindo contagem de dados\n",
    "print(df3.count())\n",
    "\n",
    "# caso nao reconheça o cabeçalho, enconding ou delimitador use:\n",
    "# spark.read.format('csv').option('header', True).option('enconding', 'utf-8').load('/estudos/modelo_carros', sep = ';')\n",
    "df_carro = spark.read.format('csv').load('/estudos/modelo_carros')\n",
    "df_carro.count()"
   ]
  },
  {
   "cell_type": "code",
   "execution_count": 0,
   "metadata": {
    "application/vnd.databricks.v1+cell": {
     "cellMetadata": {
      "byteLimit": 2048000,
      "rowLimit": 10000
     },
     "inputWidgets": {},
     "nuid": "be04d95f-670a-4054-96a9-2ab11ad3707a",
     "showTitle": false,
     "title": ""
    }
   },
   "outputs": [],
   "source": [
    "# ler csv da pasta indicada\n",
    "df_marcas_dup = spark.read.format('csv').load('/estudos/marcas_duplicadas')\n",
    "\n",
    "# exibindo contagem de dados\n",
    "print(df2.count())\n",
    "print(df_marcas_dup.count())\n",
    "\n",
    "\n",
    "# ler csv da pasta indicada\n",
    "df_marcas_carro = spark.read.format('csv').load('/estudos/marcas')\n",
    "\n",
    "# exibindo contagem de dados\n",
    "print(df2.count())\n",
    "print(df_marcas_carro.count())"
   ]
  },
  {
   "cell_type": "code",
   "execution_count": 0,
   "metadata": {
    "application/vnd.databricks.v1+cell": {
     "cellMetadata": {
      "byteLimit": 2048000,
      "rowLimit": 10000
     },
     "inputWidgets": {},
     "nuid": "95315be0-0372-4ddc-ad5a-6e78a38f6f31",
     "showTitle": false,
     "title": ""
    }
   },
   "outputs": [],
   "source": [
    "df_carro\n",
    "display(df_carro)"
   ]
  },
  {
   "cell_type": "markdown",
   "metadata": {
    "application/vnd.databricks.v1+cell": {
     "cellMetadata": {
      "byteLimit": 2048000,
      "rowLimit": 10000
     },
     "inputWidgets": {},
     "nuid": "8a5009a5-6e4a-4702-bc7b-771ce6d6ef49",
     "showTitle": false,
     "title": ""
    }
   },
   "source": [
    "## Arquivos parquet e json"
   ]
  },
  {
   "cell_type": "code",
   "execution_count": 0,
   "metadata": {
    "application/vnd.databricks.v1+cell": {
     "cellMetadata": {
      "byteLimit": 2048000,
      "rowLimit": 10000
     },
     "inputWidgets": {},
     "nuid": "7065c8d3-34f7-42a5-a544-a41c5053f354",
     "showTitle": false,
     "title": ""
    }
   },
   "outputs": [],
   "source": [
    "# salvar arquivo parquet na pasta indicada\n",
    "# df_carro.write.format('parquet').save('/estudos/modelo_carros_parquet')\n",
    "# df_marcas_carro.write.format('parquet').save('/estudos/marcas_parquet')\n",
    "# df_marcas_dup.write.format('parquet').save('/estudos/marcas_duplicadas_parquet')\n",
    "\n",
    "# sobrescrever arquivo parquet na pasta indicada\n",
    "df_carro.write.format('parquet').mode('overwrite').save('/estudos/modelo_carros_parquet')\n",
    "df_marcas_carro.write.format('parquet').mode('overwrite').save('/estudos/marcas_parquet')\n",
    "df_marcas_dup.write.format('parquet').mode('overwrite').save('/estudos/marcas_duplicadas_parquet')"
   ]
  },
  {
   "cell_type": "code",
   "execution_count": 0,
   "metadata": {
    "application/vnd.databricks.v1+cell": {
     "cellMetadata": {
      "byteLimit": 2048000,
      "rowLimit": 10000
     },
     "inputWidgets": {},
     "nuid": "69f5b9f5-2123-4cd5-9dca-8c1c0e1d5c53",
     "showTitle": false,
     "title": ""
    }
   },
   "outputs": [],
   "source": [
    "# salvar arquivo json na pasta indicada\n",
    "# df_carro.write.format('json').save('/estudos/modelo_carros_json')\n",
    "# df_marcas_carro.write.format('json').save('/estudos/marcas_json')\n",
    "# df_marcas_dup.write.format('json').save('/estudos/marcas_duplicadas_json')\n",
    "\n",
    "# sobrescrever arquivo json na pasta indicada\n",
    "df_carro.write.format('json').mode('overwrite').save('/estudos/modelo_carros_json')\n",
    "df_marcas_carro.write.format('json').mode('overwrite').save('/estudos/marcas_json')\n",
    "df_marcas_dup.write.format('json').mode('overwrite').save('/estudos/marcas_duplicadas_json')"
   ]
  },
  {
   "cell_type": "code",
   "execution_count": 0,
   "metadata": {
    "application/vnd.databricks.v1+cell": {
     "cellMetadata": {
      "byteLimit": 2048000,
      "rowLimit": 10000
     },
     "inputWidgets": {},
     "nuid": "d8008649-12cc-4a3e-a775-8dd2f76c2412",
     "showTitle": false,
     "title": ""
    }
   },
   "outputs": [],
   "source": [
    "# ler arquivo parquet na pasta indicada\n",
    "df_marcas_carro = spark.read.format('parquet').load('/estudos/marcas_parquet')\n",
    "display(df_marcas_carro)"
   ]
  },
  {
   "cell_type": "code",
   "execution_count": 0,
   "metadata": {
    "application/vnd.databricks.v1+cell": {
     "cellMetadata": {
      "byteLimit": 2048000,
      "rowLimit": 10000
     },
     "inputWidgets": {},
     "nuid": "052fec67-cb5a-4990-94dc-ce1f9d6a708a",
     "showTitle": false,
     "title": ""
    }
   },
   "outputs": [],
   "source": [
    "# ler arquivo json na pasta indicada\n",
    "df_carros = spark.read.format('json').load('/estudos/modelo_carros_json')\n",
    "display(df_carros)"
   ]
  },
  {
   "cell_type": "markdown",
   "metadata": {
    "application/vnd.databricks.v1+cell": {
     "cellMetadata": {
      "byteLimit": 2048000,
      "rowLimit": 10000
     },
     "inputWidgets": {},
     "nuid": "ba2bf31e-cede-4f8e-ac95-8800b29ad915",
     "showTitle": false,
     "title": ""
    }
   },
   "source": [
    "## Comando SELECT SQL"
   ]
  },
  {
   "cell_type": "code",
   "execution_count": 0,
   "metadata": {
    "application/vnd.databricks.v1+cell": {
     "cellMetadata": {
      "byteLimit": 2048000,
      "rowLimit": 10000
     },
     "inputWidgets": {},
     "nuid": "198d3b55-db13-4193-80ca-2a29af64060b",
     "showTitle": false,
     "title": ""
    }
   },
   "outputs": [],
   "source": [
    "# Criar tabela temporária para SQL\n",
    "df_carros.createOrReplaceTempView('carros')"
   ]
  },
  {
   "cell_type": "markdown",
   "metadata": {
    "application/vnd.databricks.v1+cell": {
     "cellMetadata": {
      "byteLimit": 2048000,
      "rowLimit": 10000
     },
     "inputWidgets": {},
     "nuid": "abd5ff03-3b05-4dbe-9676-89d75f34f6ee",
     "showTitle": false,
     "title": ""
    }
   },
   "source": [
    "- %sql abre um ambiente para query SQL"
   ]
  },
  {
   "cell_type": "code",
   "execution_count": 0,
   "metadata": {
    "application/vnd.databricks.v1+cell": {
     "cellMetadata": {
      "byteLimit": 2048000,
      "implicitDf": true,
      "rowLimit": 10000
     },
     "inputWidgets": {},
     "nuid": "693d68e7-f730-42bb-9aa8-6361afcd1bcb",
     "showTitle": false,
     "title": ""
    }
   },
   "outputs": [],
   "source": [
    "\n",
    "%sql\n",
    "select * from carros"
   ]
  },
  {
   "cell_type": "code",
   "execution_count": 0,
   "metadata": {
    "application/vnd.databricks.v1+cell": {
     "cellMetadata": {
      "byteLimit": 2048000,
      "implicitDf": true,
      "rowLimit": 10000
     },
     "inputWidgets": {},
     "nuid": "a779d1b3-21b6-4741-8275-dad923fbefd4",
     "showTitle": false,
     "title": ""
    }
   },
   "outputs": [],
   "source": [
    "%sql\n",
    "select _c0 as id, _c1 as carros, _c2 as valor from carros"
   ]
  },
  {
   "cell_type": "code",
   "execution_count": 0,
   "metadata": {
    "application/vnd.databricks.v1+cell": {
     "cellMetadata": {
      "byteLimit": 2048000,
      "rowLimit": 10000
     },
     "inputWidgets": {},
     "nuid": "1e1554a2-0fc1-4dde-abff-c1743fda1751",
     "showTitle": false,
     "title": ""
    }
   },
   "outputs": [],
   "source": [
    "# spark.sql cria um dataframe para a query\n",
    "df_carros_sql = spark.sql('''\n",
    "                            select _c0 as id, _c1 as carros, _c2 as valor from carros\n",
    "                          ''')\n",
    "\n",
    "display(df_carros_sql)"
   ]
  },
  {
   "cell_type": "markdown",
   "metadata": {
    "application/vnd.databricks.v1+cell": {
     "cellMetadata": {
      "byteLimit": 2048000,
      "rowLimit": 10000
     },
     "inputWidgets": {},
     "nuid": "466178f1-848b-4a60-a3cf-3a0a3ac93803",
     "showTitle": false,
     "title": ""
    }
   },
   "source": [
    "## Comandos SELECT SPARK"
   ]
  },
  {
   "cell_type": "code",
   "execution_count": 0,
   "metadata": {
    "application/vnd.databricks.v1+cell": {
     "cellMetadata": {
      "byteLimit": 2048000,
      "rowLimit": 10000
     },
     "inputWidgets": {},
     "nuid": "a5c2eadc-9b1f-4e27-af03-194ef37dd482",
     "showTitle": false,
     "title": ""
    }
   },
   "outputs": [],
   "source": [
    "# .select faz a query em pyspark\n",
    "df_carros_spark = df_carros_sql.select('id', 'carros')\n",
    "display(df_carros_spark)"
   ]
  },
  {
   "cell_type": "code",
   "execution_count": 0,
   "metadata": {
    "application/vnd.databricks.v1+cell": {
     "cellMetadata": {
      "byteLimit": 2048000,
      "rowLimit": 10000
     },
     "inputWidgets": {},
     "nuid": "42602699-9563-4f74-a044-9f8ed7325513",
     "showTitle": false,
     "title": ""
    }
   },
   "outputs": [],
   "source": [
    "# .selectExpr faz a query e permite alterar os nomes das colunas\n",
    "df_carros_spark = df_carros.selectExpr('_c0 as id_carro', '_c1 as modelo_carros')\n",
    "display(df_carros_spark)"
   ]
  },
  {
   "cell_type": "code",
   "execution_count": 0,
   "metadata": {
    "application/vnd.databricks.v1+cell": {
     "cellMetadata": {
      "byteLimit": 2048000,
      "rowLimit": 10000
     },
     "inputWidgets": {},
     "nuid": "6fd7c30c-749d-44ce-a08f-a52777a600b2",
     "showTitle": false,
     "title": ""
    }
   },
   "outputs": [],
   "source": [
    "# .alias também pode ser usado para alterar o nome da coluna\n",
    "from pyspark.sql.functions import col\n",
    "df_carros_spark = df_carros.select(col('_c0').alias('id_carro'), '_c1')\n",
    "display(df_carros_spark)"
   ]
  },
  {
   "cell_type": "markdown",
   "metadata": {
    "application/vnd.databricks.v1+cell": {
     "cellMetadata": {
      "byteLimit": 2048000,
      "rowLimit": 10000
     },
     "inputWidgets": {},
     "nuid": "eb12f4bb-1cb8-426d-ade6-2a9c11bf57cb",
     "showTitle": false,
     "title": ""
    }
   },
   "source": [
    "## Comandos de filtro"
   ]
  },
  {
   "cell_type": "code",
   "execution_count": 0,
   "metadata": {
    "application/vnd.databricks.v1+cell": {
     "cellMetadata": {
      "byteLimit": 2048000,
      "rowLimit": 10000
     },
     "inputWidgets": {},
     "nuid": "1d56debf-4c72-4235-9c63-3af6abea88d5",
     "showTitle": false,
     "title": ""
    }
   },
   "outputs": [],
   "source": [
    "# ler arquivo csv\n",
    "df_carros = df_carro = spark.read.format('csv').load('/estudos/modelo_carros')\n",
    "\n",
    "# criar tabela temprária\n",
    "df_carros.createOrReplaceTempView('carros')"
   ]
  },
  {
   "cell_type": "code",
   "execution_count": 0,
   "metadata": {
    "application/vnd.databricks.v1+cell": {
     "cellMetadata": {
      "byteLimit": 2048000,
      "implicitDf": true,
      "rowLimit": 10000
     },
     "inputWidgets": {},
     "nuid": "e14e1f7b-ea3a-4ae0-b73a-962ed7c02eb3",
     "showTitle": false,
     "title": ""
    }
   },
   "outputs": [],
   "source": [
    "%sql\n",
    "\n",
    "select * from carros\n",
    "order by _c1"
   ]
  },
  {
   "cell_type": "code",
   "execution_count": 0,
   "metadata": {
    "application/vnd.databricks.v1+cell": {
     "cellMetadata": {
      "byteLimit": 2048000,
      "implicitDf": true,
      "rowLimit": 10000
     },
     "inputWidgets": {},
     "nuid": "2b1e5ff3-3afa-4b9f-adff-035f0aea603a",
     "showTitle": false,
     "title": ""
    }
   },
   "outputs": [],
   "source": [
    "%sql\n",
    "\n",
    "select * from carros\n",
    "where _c0 = 1 \n",
    "or _c0 = 2\n"
   ]
  },
  {
   "cell_type": "code",
   "execution_count": 0,
   "metadata": {
    "application/vnd.databricks.v1+cell": {
     "cellMetadata": {
      "byteLimit": 2048000,
      "rowLimit": 10000
     },
     "inputWidgets": {},
     "nuid": "ba15b562-bd92-44c4-b81d-707bb42dd6dc",
     "showTitle": false,
     "title": ""
    }
   },
   "outputs": [],
   "source": [
    "df_carros_01 = spark.sql('''\n",
    "                         select * from carros\n",
    "                         where _c0 = 1 \n",
    "                         or _c0 = 2\n",
    "                         ''')\n",
    "\n",
    "display(df_carros_01)"
   ]
  },
  {
   "cell_type": "code",
   "execution_count": 0,
   "metadata": {
    "application/vnd.databricks.v1+cell": {
     "cellMetadata": {
      "byteLimit": 2048000,
      "rowLimit": 10000
     },
     "inputWidgets": {},
     "nuid": "46ae3ff8-f58f-440f-8705-2929a6f0afec",
     "showTitle": false,
     "title": ""
    }
   },
   "outputs": [],
   "source": [
    "# Where pode ser usado para filtrar o dataframe\n",
    "display(df_carros.where(\"_c0 = '1' or _c0 = '2'\"))"
   ]
  },
  {
   "cell_type": "code",
   "execution_count": 0,
   "metadata": {
    "application/vnd.databricks.v1+cell": {
     "cellMetadata": {
      "byteLimit": 2048000,
      "rowLimit": 10000
     },
     "inputWidgets": {},
     "nuid": "f1e37b7d-ba1d-4b36-8b26-d5baec14c6f7",
     "showTitle": false,
     "title": ""
    }
   },
   "outputs": [],
   "source": [
    "# Filter pode ser usado para filtrar o dataframe\n",
    "display(df_carros.filter(\"_c0 = '1' or _c0 = '2'\"))"
   ]
  },
  {
   "cell_type": "code",
   "execution_count": 0,
   "metadata": {
    "application/vnd.databricks.v1+cell": {
     "cellMetadata": {
      "byteLimit": 2048000,
      "rowLimit": 10000
     },
     "inputWidgets": {},
     "nuid": "c2d59055-4549-453f-8538-1837b0e0a1c8",
     "showTitle": false,
     "title": ""
    }
   },
   "outputs": [],
   "source": [
    "# Filter pode ser usado para filtrar o dataframe em várias colunas\n",
    "display(df_carros.filter(\n",
    "    (col('_c0') == '1')  |\n",
    "    (col('_c1') == 'Golf')\n",
    "    ))"
   ]
  },
  {
   "cell_type": "code",
   "execution_count": 0,
   "metadata": {
    "application/vnd.databricks.v1+cell": {
     "cellMetadata": {
      "byteLimit": 2048000,
      "rowLimit": 10000
     },
     "inputWidgets": {},
     "nuid": "c30645ef-aaa5-4c33-a0df-f33ed0979b8a",
     "showTitle": false,
     "title": ""
    }
   },
   "outputs": [],
   "source": [
    "# Filter pode ser usado para filtrar o dataframe em várias colunas\n",
    "display(df_carros.where(\n",
    "    (df_carros._c0 == '1')  |\n",
    "    (df_carros['_c1'] == 'Golf')\n",
    "    ))"
   ]
  },
  {
   "cell_type": "markdown",
   "metadata": {
    "application/vnd.databricks.v1+cell": {
     "cellMetadata": {
      "byteLimit": 2048000,
      "rowLimit": 10000
     },
     "inputWidgets": {},
     "nuid": "22d608f5-6213-4072-b696-dc98c98bc2f2",
     "showTitle": false,
     "title": ""
    }
   },
   "source": [
    "## Criar Dataframe"
   ]
  },
  {
   "cell_type": "code",
   "execution_count": 0,
   "metadata": {
    "application/vnd.databricks.v1+cell": {
     "cellMetadata": {
      "byteLimit": 2048000,
      "rowLimit": 10000
     },
     "inputWidgets": {},
     "nuid": "670eca56-1f06-42db-96d9-f59519c97556",
     "showTitle": false,
     "title": ""
    }
   },
   "outputs": [],
   "source": [
    "# Filter pode ser usado para filtrar o dataframe em várias colunas\n",
    "df_carro_pyspark = df_carros.where(\n",
    "    (df_carros._c0 == '1')  |\n",
    "    (df_carros['_c1'] == 'Golf')\n",
    ")\n",
    "\n",
    "display(df_carro_pyspark)"
   ]
  },
  {
   "cell_type": "markdown",
   "metadata": {
    "application/vnd.databricks.v1+cell": {
     "cellMetadata": {
      "byteLimit": 2048000,
      "rowLimit": 10000
     },
     "inputWidgets": {},
     "nuid": "8fe7879a-0b4f-45ad-9a3d-0593e0d4e38d",
     "showTitle": false,
     "title": ""
    }
   },
   "source": [
    "## Duplicados SQL"
   ]
  },
  {
   "cell_type": "code",
   "execution_count": 0,
   "metadata": {
    "application/vnd.databricks.v1+cell": {
     "cellMetadata": {
      "byteLimit": 2048000,
      "rowLimit": 10000
     },
     "inputWidgets": {},
     "nuid": "8b4ae9b4-8a47-4c03-b866-2a5c2f0ddd45",
     "showTitle": false,
     "title": ""
    }
   },
   "outputs": [],
   "source": [
    " # lendo arquivo json\n",
    " df_carros = spark.read.format('json').load('/estudos/modelo_carros_json')\n",
    " display(df_carros)"
   ]
  },
  {
   "cell_type": "code",
   "execution_count": 0,
   "metadata": {
    "application/vnd.databricks.v1+cell": {
     "cellMetadata": {
      "byteLimit": 2048000,
      "rowLimit": 10000
     },
     "inputWidgets": {},
     "nuid": "6e25d60c-f097-49b7-986b-b1bfd0c40596",
     "showTitle": false,
     "title": ""
    }
   },
   "outputs": [],
   "source": [
    "# criar daraframe pela query SQL com distinct para valores únicos da variável\n",
    "df_carros_unicos = spark.sql('''\n",
    "                         select distinct _c0 as id from carros\n",
    "                         ''')\n",
    "\n",
    "display(df_carros_unicos)"
   ]
  },
  {
   "cell_type": "markdown",
   "metadata": {
    "application/vnd.databricks.v1+cell": {
     "cellMetadata": {
      "byteLimit": 2048000,
      "rowLimit": 10000
     },
     "inputWidgets": {},
     "nuid": "887f16ef-a789-4596-9449-d355e88757d2",
     "showTitle": false,
     "title": ""
    }
   },
   "source": [
    "## Replace SQL"
   ]
  },
  {
   "cell_type": "markdown",
   "metadata": {
    "application/vnd.databricks.v1+cell": {
     "cellMetadata": {
      "byteLimit": 2048000,
      "rowLimit": 10000
     },
     "inputWidgets": {},
     "nuid": "dfb3ed73-c5e7-42b3-b3e9-4a7ae24ec13b",
     "showTitle": false,
     "title": ""
    }
   },
   "source": [
    "- replace(coluna, caracter a ser substituido, caracter para substituir)"
   ]
  },
  {
   "cell_type": "code",
   "execution_count": 0,
   "metadata": {
    "application/vnd.databricks.v1+cell": {
     "cellMetadata": {
      "byteLimit": 2048000,
      "implicitDf": true,
      "rowLimit": 10000
     },
     "inputWidgets": {},
     "nuid": "75a5f263-1392-4464-955a-7be7dc6c25c3",
     "showTitle": false,
     "title": ""
    }
   },
   "outputs": [],
   "source": [
    "%sql\n",
    "\n",
    "select replace(_c2, '$', '#') as preco_num\n",
    "from carros"
   ]
  },
  {
   "cell_type": "code",
   "execution_count": 0,
   "metadata": {
    "application/vnd.databricks.v1+cell": {
     "cellMetadata": {
      "byteLimit": 2048000,
      "implicitDf": true,
      "rowLimit": 10000
     },
     "inputWidgets": {},
     "nuid": "ed7a8e7b-d423-46b1-a476-e35e5a636f4f",
     "showTitle": false,
     "title": ""
    }
   },
   "outputs": [],
   "source": [
    "%sql\n",
    "\n",
    "select replace(_c2, '$', '') as preco_num\n",
    "from carros"
   ]
  },
  {
   "cell_type": "code",
   "execution_count": 0,
   "metadata": {
    "application/vnd.databricks.v1+cell": {
     "cellMetadata": {
      "byteLimit": 2048000,
      "rowLimit": 10000
     },
     "inputWidgets": {},
     "nuid": "acfcd657-0f44-45e7-aa7b-ffb7db9f8403",
     "showTitle": false,
     "title": ""
    }
   },
   "outputs": [],
   "source": [
    "df_carros_replace = spark.sql('''\n",
    "                         select replace(_c2, '$', '') as preco_num from carros\n",
    "                         ''')\n",
    "\n",
    "print(df_carros_replace.count())\n",
    "display(df_carros_replace)"
   ]
  },
  {
   "cell_type": "markdown",
   "metadata": {
    "application/vnd.databricks.v1+cell": {
     "cellMetadata": {
      "byteLimit": 2048000,
      "rowLimit": 10000
     },
     "inputWidgets": {},
     "nuid": "09e9ccdf-ef78-456e-a6d4-462f92e5ce07",
     "showTitle": false,
     "title": ""
    }
   },
   "source": [
    "## Duplicados pyspark"
   ]
  },
  {
   "cell_type": "code",
   "execution_count": 0,
   "metadata": {
    "application/vnd.databricks.v1+cell": {
     "cellMetadata": {
      "byteLimit": 2048000,
      "rowLimit": 10000
     },
     "inputWidgets": {},
     "nuid": "a42aa915-0a36-4652-aad4-544d26d041ec",
     "showTitle": false,
     "title": ""
    }
   },
   "outputs": [],
   "source": [
    "# .dinstinct() para valores únicos da variável\n",
    "df_carros_pyspark = df_carros.distinct()\n",
    "print(df_carros_replace.count())\n",
    "print(df_carros_pyspark.count())\n",
    "display(df_carros_pyspark)"
   ]
  },
  {
   "cell_type": "code",
   "execution_count": 0,
   "metadata": {
    "application/vnd.databricks.v1+cell": {
     "cellMetadata": {
      "byteLimit": 2048000,
      "rowLimit": 10000
     },
     "inputWidgets": {},
     "nuid": "c935f75b-f2c0-43d3-8732-1eb16c636319",
     "showTitle": false,
     "title": ""
    }
   },
   "outputs": [],
   "source": [
    "# .dropDuplicates() para remover duplicados da variável\n",
    "df_carros_pyspark = df_carros.dropDuplicates()\n",
    "print(df_carros_replace.count())\n",
    "print(df_carros_pyspark.count())\n",
    "display(df_carros_pyspark)"
   ]
  },
  {
   "cell_type": "markdown",
   "metadata": {
    "application/vnd.databricks.v1+cell": {
     "cellMetadata": {
      "byteLimit": 2048000,
      "rowLimit": 10000
     },
     "inputWidgets": {},
     "nuid": "a19688d6-c61a-4472-a3ae-d08aa74b04d0",
     "showTitle": false,
     "title": ""
    }
   },
   "source": [
    "## Replace spark"
   ]
  },
  {
   "cell_type": "code",
   "execution_count": 0,
   "metadata": {
    "application/vnd.databricks.v1+cell": {
     "cellMetadata": {
      "byteLimit": 2048000,
      "rowLimit": 10000
     },
     "inputWidgets": {},
     "nuid": "80f0839f-6f14-4cd0-b748-62cb32dfa911",
     "showTitle": false,
     "title": ""
    }
   },
   "outputs": [],
   "source": [
    "from pyspark.sql.functions import regexp_replace\n",
    "\n",
    "# withColumns para indicar qual coluna para realizar a operação - withColumns('coluna', operação)\n",
    "# regex_replace(coluna, \\ + caracter a ser substituido, caracter para substituir)  *** caracter a ser substituido deve ter a '\\' antes para que seja identificado\n",
    "df_carros_pyspark_2 = df_carros\n",
    "df_carros_pyspark_2 = df_carros_pyspark_2.withColumn('_c2', regexp_replace('_c2', '\\$', '#'))\n",
    "\n",
    "display(df_carros_pyspark_2)"
   ]
  },
  {
   "cell_type": "code",
   "execution_count": 0,
   "metadata": {
    "application/vnd.databricks.v1+cell": {
     "cellMetadata": {
      "byteLimit": 2048000,
      "rowLimit": 10000
     },
     "inputWidgets": {},
     "nuid": "8b77fbcf-ba93-4d91-ae99-e1f91dab8342",
     "showTitle": false,
     "title": ""
    }
   },
   "outputs": [],
   "source": [
    "# withColumns para indicar qual coluna para realizar a operação - withColumns('coluna', operação)\n",
    "# regex_replace(coluna, \\ + caracter a ser substituido, caracter para substituir)  *** caracter a ser substituido deve ter a '\\' antes para que seja identificado\n",
    "df_carros_pyspark_3 = df_carros.withColumn('_c2', regexp_replace('_c2', '\\$', ''))\n",
    "display(df_carros_pyspark_3)"
   ]
  },
  {
   "cell_type": "markdown",
   "metadata": {
    "application/vnd.databricks.v1+cell": {
     "cellMetadata": {
      "byteLimit": 2048000,
      "rowLimit": 10000
     },
     "inputWidgets": {},
     "nuid": "dc55df46-8c10-4a6f-8bda-ad42465cce1c",
     "showTitle": false,
     "title": ""
    }
   },
   "source": [
    "## Tipos dados SQL"
   ]
  },
  {
   "cell_type": "code",
   "execution_count": 0,
   "metadata": {
    "application/vnd.databricks.v1+cell": {
     "cellMetadata": {
      "byteLimit": 2048000,
      "rowLimit": 10000
     },
     "inputWidgets": {},
     "nuid": "587e7415-bd3e-410d-a4b0-7556813b7d34",
     "showTitle": false,
     "title": ""
    }
   },
   "outputs": [],
   "source": [
    "from pyspark.sql.functions import *\n",
    "\n",
    "df_carros_pyspark_2.createOrReplaceTempView('carros')"
   ]
  },
  {
   "cell_type": "markdown",
   "metadata": {
    "application/vnd.databricks.v1+cell": {
     "cellMetadata": {
      "byteLimit": 2048000,
      "rowLimit": 10000
     },
     "inputWidgets": {},
     "nuid": "ccdd80cc-29ef-48ae-89bc-ffecf9428a52",
     "showTitle": false,
     "title": ""
    }
   },
   "source": [
    "- cast(coluna as tipo de dados) nome coluna - Para indicar qual tipo de dado para a coluna"
   ]
  },
  {
   "cell_type": "code",
   "execution_count": 0,
   "metadata": {
    "application/vnd.databricks.v1+cell": {
     "cellMetadata": {
      "byteLimit": 2048000,
      "implicitDf": true,
      "rowLimit": 10000
     },
     "inputWidgets": {},
     "nuid": "25bfd7f8-f9c9-4886-8ce3-8e647fc4eab5",
     "showTitle": false,
     "title": ""
    }
   },
   "outputs": [],
   "source": [
    "%sql\n",
    "\n",
    "select \n",
    "  CAST(_c0 AS INT) ID,\n",
    "  _c1 AS modelo,\n",
    "  CAST(_c2 AS DOUBLE) preco,\n",
    "  CAST(_c3 AS INT) marca\n",
    "from carros"
   ]
  },
  {
   "cell_type": "code",
   "execution_count": 0,
   "metadata": {
    "application/vnd.databricks.v1+cell": {
     "cellMetadata": {
      "byteLimit": 2048000,
      "rowLimit": 10000
     },
     "inputWidgets": {},
     "nuid": "17acc0b9-4fac-49a9-80ec-af1da79a4951",
     "showTitle": false,
     "title": ""
    }
   },
   "outputs": [],
   "source": [
    "df_carros_sql = spark.sql('''\n",
    "select \n",
    "  CAST(_c0 AS INT) ID,\n",
    "  _c1 AS modelo,\n",
    "  CAST(_c2 AS DOUBLE) preco,\n",
    "  CAST(_c3 AS INT) marca\n",
    "from carros\n",
    "''' )\n",
    "\n",
    "display(df_carros_sql)"
   ]
  },
  {
   "cell_type": "code",
   "execution_count": 0,
   "metadata": {
    "application/vnd.databricks.v1+cell": {
     "cellMetadata": {
      "byteLimit": 2048000,
      "rowLimit": 10000
     },
     "inputWidgets": {},
     "nuid": "07493a7a-705b-45af-8224-3446d7173e48",
     "showTitle": false,
     "title": ""
    }
   },
   "outputs": [],
   "source": [
    "# .printSchema() para exibir os tipos dos dados das colunas\n",
    "df_carros.printSchema()"
   ]
  },
  {
   "cell_type": "code",
   "execution_count": 0,
   "metadata": {
    "application/vnd.databricks.v1+cell": {
     "cellMetadata": {
      "byteLimit": 2048000,
      "rowLimit": 10000
     },
     "inputWidgets": {},
     "nuid": "1c01b38a-9ebb-44b4-964a-4153d717a4a8",
     "showTitle": false,
     "title": ""
    }
   },
   "outputs": [],
   "source": [
    "# .printSchema() para exibir os tipos dos dados das colunas\n",
    "df_carros_sql.printSchema()"
   ]
  },
  {
   "cell_type": "code",
   "execution_count": 0,
   "metadata": {
    "application/vnd.databricks.v1+cell": {
     "cellMetadata": {
      "byteLimit": 2048000,
      "rowLimit": 10000
     },
     "inputWidgets": {},
     "nuid": "e06509a7-2f3f-4250-8940-9389ffd9592d",
     "showTitle": false,
     "title": ""
    }
   },
   "outputs": [],
   "source": [
    "df_carros_sql.dtypes"
   ]
  },
  {
   "cell_type": "markdown",
   "metadata": {
    "application/vnd.databricks.v1+cell": {
     "cellMetadata": {
      "byteLimit": 2048000,
      "rowLimit": 10000
     },
     "inputWidgets": {},
     "nuid": "dbc15a14-c1e5-4db1-84b3-391b31dc6689",
     "showTitle": false,
     "title": ""
    }
   },
   "source": [
    "## Tipos dados pyspark"
   ]
  },
  {
   "cell_type": "code",
   "execution_count": 0,
   "metadata": {
    "application/vnd.databricks.v1+cell": {
     "cellMetadata": {
      "byteLimit": 2048000,
      "rowLimit": 10000
     },
     "inputWidgets": {},
     "nuid": "e49b55f8-04eb-489c-a0fc-b1837a3d84f2",
     "showTitle": false,
     "title": ""
    }
   },
   "outputs": [],
   "source": [
    "# encadeia colunas: withColumns('coluna', col('coluna').cast('tipo do dado')).withColumns('coluna', col('coluna').cast('tipo do dado'))\n",
    "df_carros_spark = df_carros\n",
    "df_carros_spark = df_carros_spark.withColumn(\n",
    "            '_c0' , col('_c0').cast('int')\n",
    "\n",
    ").withColumn(\n",
    "         '_c2' , col('_c2').cast('double')\n",
    ")"
   ]
  },
  {
   "cell_type": "code",
   "execution_count": 0,
   "metadata": {
    "application/vnd.databricks.v1+cell": {
     "cellMetadata": {
      "byteLimit": 2048000,
      "rowLimit": 10000
     },
     "inputWidgets": {},
     "nuid": "c463bdc1-f1be-4b43-8ca0-dfb04e171b23",
     "showTitle": false,
     "title": ""
    }
   },
   "outputs": [],
   "source": [
    "from pyspark.sql.types import *\n",
    "\n",
    "# outra maneira para alterar tipo de dados:\n",
    "# .select(col('coluna).cast(tipo do dados))\n",
    "df_carros_spark_2 = df_carros\n",
    "df_carros_spark_2 = df_carros_spark_2.select(\n",
    "           col('_c0').cast(IntegerType()),\n",
    "           '_c1',\n",
    "           df_carros_spark_2['_c2'].cast(DoubleType()),\n",
    "           df_carros_spark_2._c2.cast('int')\n",
    ")"
   ]
  },
  {
   "cell_type": "markdown",
   "metadata": {
    "application/vnd.databricks.v1+cell": {
     "cellMetadata": {
      "byteLimit": 2048000,
      "rowLimit": 10000
     },
     "inputWidgets": {},
     "nuid": "a4d4ef8b-0536-48ac-9234-5bc86fd60a6e",
     "showTitle": false,
     "title": ""
    }
   },
   "source": [
    "## Like e between SQL"
   ]
  },
  {
   "cell_type": "code",
   "execution_count": 0,
   "metadata": {
    "application/vnd.databricks.v1+cell": {
     "cellMetadata": {
      "byteLimit": 2048000,
      "rowLimit": 10000
     },
     "inputWidgets": {},
     "nuid": "994a32e6-dcba-49a3-ba72-4c6de3491d4a",
     "showTitle": false,
     "title": ""
    }
   },
   "outputs": [],
   "source": [
    "df_carros_spark_2.createOrReplaceGlobalTempView('carros')"
   ]
  },
  {
   "cell_type": "markdown",
   "metadata": {
    "application/vnd.databricks.v1+cell": {
     "cellMetadata": {
      "byteLimit": 2048000,
      "rowLimit": 10000
     },
     "inputWidgets": {},
     "nuid": "8fc65c6e-75f7-4301-bdce-bdb24d7dd293",
     "showTitle": false,
     "title": ""
    }
   },
   "source": [
    "- Contém as letras após %: like %abs\n",
    "- Contém as letras antes %: like abs%\n",
    "- Contém as letras entre os %: like %abs%"
   ]
  },
  {
   "cell_type": "code",
   "execution_count": 0,
   "metadata": {
    "application/vnd.databricks.v1+cell": {
     "cellMetadata": {
      "byteLimit": 2048000,
      "implicitDf": true,
      "rowLimit": 10000
     },
     "inputWidgets": {},
     "nuid": "906cfa6a-92eb-49b2-bb78-921fa6bfc512",
     "showTitle": false,
     "title": ""
    }
   },
   "outputs": [],
   "source": [
    "%sql\n",
    "\n",
    "select * from carros\n",
    "where _c1 like '%alo%'"
   ]
  },
  {
   "cell_type": "code",
   "execution_count": 0,
   "metadata": {
    "application/vnd.databricks.v1+cell": {
     "cellMetadata": {
      "byteLimit": 2048000,
      "implicitDf": true,
      "rowLimit": 10000
     },
     "inputWidgets": {},
     "nuid": "f9ddba32-002c-4973-bdac-dca167c4eccd",
     "showTitle": false,
     "title": ""
    }
   },
   "outputs": [],
   "source": [
    "%sql\n",
    "\n",
    "select * from carros\n",
    "where _c1 like '%rt'"
   ]
  },
  {
   "cell_type": "code",
   "execution_count": 0,
   "metadata": {
    "application/vnd.databricks.v1+cell": {
     "cellMetadata": {
      "byteLimit": 2048000,
      "implicitDf": true,
      "rowLimit": 10000
     },
     "inputWidgets": {},
     "nuid": "40ea8b7a-3f83-4efd-ada2-790c46e3cd9d",
     "showTitle": false,
     "title": ""
    }
   },
   "outputs": [],
   "source": [
    "%sql\n",
    "\n",
    "select * from carros\n",
    "where _c1 like 'Go%'"
   ]
  },
  {
   "cell_type": "code",
   "execution_count": 0,
   "metadata": {
    "application/vnd.databricks.v1+cell": {
     "cellMetadata": {
      "byteLimit": 2048000,
      "rowLimit": 10000
     },
     "inputWidgets": {},
     "nuid": "b426b6fc-ae05-465a-869c-fe0465c23f8a",
     "showTitle": false,
     "title": ""
    }
   },
   "outputs": [],
   "source": [
    "df_carros_sql_like = spark.sql('''\n",
    "select * from carros\n",
    "where _c1 like 'Go%'\n",
    "                               ''')\n",
    "\n",
    "display(df_carros_sql_like)"
   ]
  },
  {
   "cell_type": "markdown",
   "metadata": {
    "application/vnd.databricks.v1+cell": {
     "cellMetadata": {
      "byteLimit": 2048000,
      "rowLimit": 10000
     },
     "inputWidgets": {},
     "nuid": "ce8cebd1-29c6-4d83-9d86-da728531ae42",
     "showTitle": false,
     "title": ""
    }
   },
   "source": [
    "- Contém dos dados entre x e y: where coluna between x and y"
   ]
  },
  {
   "cell_type": "code",
   "execution_count": 0,
   "metadata": {
    "application/vnd.databricks.v1+cell": {
     "cellMetadata": {
      "byteLimit": 2048000,
      "implicitDf": true,
      "rowLimit": 10000
     },
     "inputWidgets": {},
     "nuid": "bd13536c-1944-437f-a37d-b8f69e5110a4",
     "showTitle": false,
     "title": ""
    }
   },
   "outputs": [],
   "source": [
    "%sql\n",
    "\n",
    "select * from carros\n",
    "where _c2 between 75000 and 77000"
   ]
  },
  {
   "cell_type": "code",
   "execution_count": 0,
   "metadata": {
    "application/vnd.databricks.v1+cell": {
     "cellMetadata": {
      "byteLimit": 2048000,
      "rowLimit": 10000
     },
     "inputWidgets": {},
     "nuid": "6ba6433a-6c4e-4314-a32e-4f720c7ecd28",
     "showTitle": false,
     "title": ""
    }
   },
   "outputs": [],
   "source": [
    "df_carros_sql_between = spark.sql('''\n",
    "select * from carros\n",
    "where _c2 between 75000 and 77000\n",
    " ''')\n",
    "\n",
    "display(df_carros_sql_between)"
   ]
  },
  {
   "cell_type": "markdown",
   "metadata": {
    "application/vnd.databricks.v1+cell": {
     "cellMetadata": {
      "byteLimit": 2048000,
      "rowLimit": 10000
     },
     "inputWidgets": {},
     "nuid": "040bf2ba-a107-4f45-819a-88059636f0bf",
     "showTitle": false,
     "title": ""
    }
   },
   "source": [
    "## Like e between pyspark"
   ]
  },
  {
   "cell_type": "code",
   "execution_count": 0,
   "metadata": {
    "application/vnd.databricks.v1+cell": {
     "cellMetadata": {
      "byteLimit": 2048000,
      "rowLimit": 10000
     },
     "inputWidgets": {},
     "nuid": "51be2980-9422-48ed-ab39-dd7bae4a6edf",
     "showTitle": false,
     "title": ""
    }
   },
   "outputs": [],
   "source": [
    " # Ler formato json e retirar $ da coluna _c2\n",
    " df_carros = spark.read.format('json').load('/estudos/modelo_carros_json')\n",
    " df_carros  = df_carros.withColumn('_c2', regexp_replace('_c2', '\\$', ''))\n",
    " display(df_carros)"
   ]
  },
  {
   "cell_type": "code",
   "execution_count": 0,
   "metadata": {
    "application/vnd.databricks.v1+cell": {
     "cellMetadata": {
      "byteLimit": 2048000,
      "rowLimit": 10000
     },
     "inputWidgets": {},
     "nuid": "6c9b1f6f-b01b-409e-b0b9-3010c14fd6e6",
     "showTitle": false,
     "title": ""
    }
   },
   "outputs": [],
   "source": [
    "# Contém as letras após %: where(coluna.like(' %abs')\n",
    "df_carros_spark = df_carros\n",
    "df_carros_spark = df_carros_spark.where(\n",
    "  col('_c1').like('%alo%')\n",
    ")\n",
    "display(df_carros_spark)"
   ]
  },
  {
   "cell_type": "code",
   "execution_count": 0,
   "metadata": {
    "application/vnd.databricks.v1+cell": {
     "cellMetadata": {
      "byteLimit": 2048000,
      "rowLimit": 10000
     },
     "inputWidgets": {},
     "nuid": "54e37449-1861-4bc1-8a4d-b02ddb94e351",
     "showTitle": false,
     "title": ""
    }
   },
   "outputs": [],
   "source": [
    "# Contém as letras antes  %: where(coluna.like(' abs%')\n",
    "df_carros_spark = df_carros\n",
    "df_carros_spark = df_carros_spark.where(\n",
    "  df_carros_spark['_c1'].like('Go%')\n",
    ")\n",
    "display(df_carros_spark)"
   ]
  },
  {
   "cell_type": "code",
   "execution_count": 0,
   "metadata": {
    "application/vnd.databricks.v1+cell": {
     "cellMetadata": {
      "byteLimit": 2048000,
      "rowLimit": 10000
     },
     "inputWidgets": {},
     "nuid": "eb48ef20-016b-4164-b28d-67c5e4b4023d",
     "showTitle": false,
     "title": ""
    }
   },
   "outputs": [],
   "source": [
    "# # Contém as letras entre x e y: where(coluna.between(x, y)\n",
    "df_carros_spark_4 = df_carros.where(\n",
    "  col('_c2').between(75000,77000)\n",
    ")\n",
    "display(df_carros_spark_4)"
   ]
  },
  {
   "cell_type": "markdown",
   "metadata": {
    "application/vnd.databricks.v1+cell": {
     "cellMetadata": {
      "byteLimit": 2048000,
      "rowLimit": 10000
     },
     "inputWidgets": {},
     "nuid": "5729fc22-fa3b-4f56-ab0b-f93922f2aea1",
     "showTitle": false,
     "title": ""
    }
   },
   "source": [
    "## Funções substring, right e left SQL"
   ]
  },
  {
   "cell_type": "code",
   "execution_count": 0,
   "metadata": {
    "application/vnd.databricks.v1+cell": {
     "cellMetadata": {
      "byteLimit": 2048000,
      "rowLimit": 10000
     },
     "inputWidgets": {},
     "nuid": "ec45c7fe-0099-4ac2-b305-8c56941ad331",
     "showTitle": false,
     "title": ""
    }
   },
   "outputs": [],
   "source": [
    "df_carros.createOrReplaceGlobalTempView('carros')"
   ]
  },
  {
   "cell_type": "code",
   "execution_count": 0,
   "metadata": {
    "application/vnd.databricks.v1+cell": {
     "cellMetadata": {
      "byteLimit": 2048000,
      "rowLimit": 10000
     },
     "inputWidgets": {},
     "nuid": "28d2690a-5fd0-4b56-bb4f-a5b8da630882",
     "showTitle": false,
     "title": ""
    }
   },
   "outputs": [],
   "source": [
    "\n",
    "display(df_carros)"
   ]
  },
  {
   "cell_type": "markdown",
   "metadata": {
    "application/vnd.databricks.v1+cell": {
     "cellMetadata": {
      "byteLimit": 2048000,
      "rowLimit": 10000
     },
     "inputWidgets": {},
     "nuid": "9580e47e-176a-4571-8a3b-53e7229d6aa6",
     "showTitle": false,
     "title": ""
    }
   },
   "source": [
    "- substring(coluna, posição inicial, nº de caracteres)\n",
    "- left(coluna, nº de caracteres)  (da esquerda para direita)\n",
    "- right(coluna, nº de caracteres)  (da direita para esquerda)"
   ]
  },
  {
   "cell_type": "code",
   "execution_count": 0,
   "metadata": {
    "application/vnd.databricks.v1+cell": {
     "cellMetadata": {
      "byteLimit": 2048000,
      "implicitDf": true,
      "rowLimit": 10000
     },
     "inputWidgets": {},
     "nuid": "4c97b015-7530-4671-b9a8-abf6e62438c3",
     "showTitle": false,
     "title": ""
    }
   },
   "outputs": [],
   "source": [
    "%sql\n",
    "\n",
    "select \n",
    "_c1 as modelos,\n",
    "substring(_c1, 2, 3) as letras,\n",
    "left(_c1, 2) as letras_esquerda,\n",
    "right(_c1, 2) as letras_esquerda\n",
    "from carros"
   ]
  },
  {
   "cell_type": "code",
   "execution_count": 0,
   "metadata": {
    "application/vnd.databricks.v1+cell": {
     "cellMetadata": {
      "byteLimit": 2048000,
      "rowLimit": 10000
     },
     "inputWidgets": {},
     "nuid": "df62a674-16eb-46ae-acf8-af00755864a8",
     "showTitle": false,
     "title": ""
    }
   },
   "outputs": [],
   "source": [
    "df_spark_letras = spark.sql('''\n",
    "select \n",
    "_c1 as modelos,\n",
    "substring(_c1, 2, 3) as letras,\n",
    "left(_c1, 2) as letras_esquerda,\n",
    "right(_c1, 2) as letras_esquerda\n",
    "from carros           \n",
    "                            ''')\n",
    "\n",
    "display(df_spark_letras)"
   ]
  },
  {
   "cell_type": "markdown",
   "metadata": {
    "application/vnd.databricks.v1+cell": {
     "cellMetadata": {
      "byteLimit": 2048000,
      "rowLimit": 10000
     },
     "inputWidgets": {},
     "nuid": "123a46af-a2a3-4356-aa2d-2de82187521b",
     "showTitle": false,
     "title": ""
    }
   },
   "source": [
    "## Funções substring, right e left pyspark"
   ]
  },
  {
   "cell_type": "markdown",
   "metadata": {
    "application/vnd.databricks.v1+cell": {
     "cellMetadata": {
      "byteLimit": 2048000,
      "rowLimit": 10000
     },
     "inputWidgets": {},
     "nuid": "18697799-94bf-4c64-8a79-b259d4eb879e",
     "showTitle": false,
     "title": ""
    }
   },
   "source": [
    "df.withColumns('coluna', substring('coluna', posição inicial, nº de caracteres))"
   ]
  },
  {
   "cell_type": "code",
   "execution_count": 0,
   "metadata": {
    "application/vnd.databricks.v1+cell": {
     "cellMetadata": {
      "byteLimit": 2048000,
      "rowLimit": 10000
     },
     "inputWidgets": {},
     "nuid": "3ad95514-dacc-42d4-96b0-97012a201240",
     "showTitle": false,
     "title": ""
    }
   },
   "outputs": [],
   "source": [
    "# df.withColumns('coluna', substring('coluna', posição inicial, nº de caracteres))\n",
    "df_carros_pyspark = df_carros\n",
    "df_carros_pyspark = df_carros_pyspark.withColumn('_c1', substring('_c1', 2, 3))\n",
    "display(df_carros_pyspark)"
   ]
  },
  {
   "cell_type": "code",
   "execution_count": 0,
   "metadata": {
    "application/vnd.databricks.v1+cell": {
     "cellMetadata": {
      "byteLimit": 2048000,
      "rowLimit": 10000
     },
     "inputWidgets": {},
     "nuid": "489a3ed1-4c84-4c7b-bf72-92cc3109f766",
     "showTitle": false,
     "title": ""
    }
   },
   "outputs": [],
   "source": [
    "# substring com right ou left\n",
    "# df.withColumns('coluna', substring('coluna', posição inicial, nº de caracteres)).withColumns('coluna', expr('RIGHT(\"coluna\", posição inicial)'))\n",
    "df_carros_pyspark2 = df_carros\n",
    "df_carros_pyspark2 = df_carros_pyspark2.withColumn(\n",
    "'letras', substring('_c1', 2, 3)\n",
    ").withColumn(\n",
    "'letras_direita', expr('RIGHT(_c1, 2)')\n",
    ").withColumn(\n",
    "'letras_esquerda', expr('left(_c1, 2)'))\n",
    "              \n",
    "display(df_carros_pyspark2)"
   ]
  },
  {
   "cell_type": "markdown",
   "metadata": {
    "application/vnd.databricks.v1+cell": {
     "cellMetadata": {
      "byteLimit": 2048000,
      "rowLimit": 10000
     },
     "inputWidgets": {},
     "nuid": "882f0740-d447-440f-ae61-fd13da26e2e5",
     "showTitle": false,
     "title": ""
    }
   },
   "source": [
    "## Tipando data e hora SQL"
   ]
  },
  {
   "cell_type": "code",
   "execution_count": 0,
   "metadata": {
    "application/vnd.databricks.v1+cell": {
     "cellMetadata": {
      "byteLimit": 2048000,
      "rowLimit": 10000
     },
     "inputWidgets": {},
     "nuid": "ed1a965f-6912-4384-a90c-b79a16abd9a8",
     "showTitle": false,
     "title": ""
    }
   },
   "outputs": [],
   "source": [
    "# Criar dataframe de datas como string com .toDF(novo_nome_coluna)\n",
    "df_datas_1 = spark.createDataFrame(['2021-07-05T10:00:00.000+0000', '2020-12-05T00:09:00.000+0000', '2017-02-23T16:23:00.000+0000'], 'string').toDF('datas')\n",
    "df_datas_2 = spark.createDataFrame(['2021-07-05 10:00', '2020-12-05 00:09', '2017-02-23 16:23'], 'string').toDF('datas')\n",
    "df_datas_3 = spark.createDataFrame(['05/07/2021', '05/12/2020', '23/08/207'], 'string').toDF('datas')\n",
    "\n",
    "display(df_datas_1)\n",
    "display(df_datas_2)\n",
    "display(df_datas_3)"
   ]
  },
  {
   "cell_type": "code",
   "execution_count": 0,
   "metadata": {
    "application/vnd.databricks.v1+cell": {
     "cellMetadata": {
      "byteLimit": 2048000,
      "rowLimit": 10000
     },
     "inputWidgets": {},
     "nuid": "b709d59e-77aa-4b1e-a14f-699c3793799b",
     "showTitle": false,
     "title": ""
    }
   },
   "outputs": [],
   "source": [
    "df_datas_1.createOrReplaceTempView('datas_1')\n",
    "df_datas_2.createOrReplaceTempView('datas_2')\n",
    "df_datas_3.createOrReplaceTempView('datas_3')"
   ]
  },
  {
   "cell_type": "markdown",
   "metadata": {
    "application/vnd.databricks.v1+cell": {
     "cellMetadata": {
      "byteLimit": 2048000,
      "rowLimit": 10000
     },
     "inputWidgets": {},
     "nuid": "ca3dd3e8-ad27-4b33-9a2f-869a75d0a111",
     "showTitle": false,
     "title": ""
    }
   },
   "source": [
    "- Quando a data está em data + hora"
   ]
  },
  {
   "cell_type": "code",
   "execution_count": 0,
   "metadata": {
    "application/vnd.databricks.v1+cell": {
     "cellMetadata": {
      "byteLimit": 2048000,
      "implicitDf": true,
      "rowLimit": 10000
     },
     "inputWidgets": {},
     "nuid": "13857a34-9a49-47af-b0f8-bc5f5d9b5139",
     "showTitle": false,
     "title": ""
    }
   },
   "outputs": [],
   "source": [
    "%sql\n",
    "\n",
    "select \n",
    "to_timestamp(datas) datas\n",
    "from datas_1"
   ]
  },
  {
   "cell_type": "code",
   "execution_count": 0,
   "metadata": {
    "application/vnd.databricks.v1+cell": {
     "cellMetadata": {
      "byteLimit": 2048000,
      "rowLimit": 10000
     },
     "inputWidgets": {},
     "nuid": "7c600504-c5d8-4b14-a43d-8e6e8f59abdc",
     "showTitle": false,
     "title": ""
    }
   },
   "outputs": [],
   "source": [
    "df_datas_1_tipado = spark.sql('''\n",
    "select \n",
    "to_timestamp(datas) datas\n",
    "from datas_1                            \n",
    "                              ''')\n",
    "\n",
    "display(df_datas_1_tipado)"
   ]
  },
  {
   "cell_type": "markdown",
   "metadata": {
    "application/vnd.databricks.v1+cell": {
     "cellMetadata": {
      "byteLimit": 2048000,
      "rowLimit": 10000
     },
     "inputWidgets": {},
     "nuid": "e6117923-05a1-412b-94b5-7e1a4191109a",
     "showTitle": false,
     "title": ""
    }
   },
   "source": [
    "- Para manter somente a data quando há data + hora"
   ]
  },
  {
   "cell_type": "code",
   "execution_count": 0,
   "metadata": {
    "application/vnd.databricks.v1+cell": {
     "cellMetadata": {
      "byteLimit": 2048000,
      "implicitDf": true,
      "rowLimit": 10000
     },
     "inputWidgets": {},
     "nuid": "aefa1eee-af59-455d-ba60-3a2252d12759",
     "showTitle": false,
     "title": ""
    }
   },
   "outputs": [],
   "source": [
    "%sql\n",
    "\n",
    "select \n",
    "cast(datas as date) datas\n",
    "from datas_2"
   ]
  },
  {
   "cell_type": "code",
   "execution_count": 0,
   "metadata": {
    "application/vnd.databricks.v1+cell": {
     "cellMetadata": {
      "byteLimit": 2048000,
      "rowLimit": 10000
     },
     "inputWidgets": {},
     "nuid": "ff5d0461-1a9d-4537-8c34-4f5576b9b4bc",
     "showTitle": false,
     "title": ""
    }
   },
   "outputs": [],
   "source": [
    "df_datas_2_tipado = spark.sql('''\n",
    "select \n",
    "cast(datas as date) datas\n",
    "from datas_2                            \n",
    "                              ''')\n",
    "\n",
    "display(df_datas_2_tipado)"
   ]
  },
  {
   "cell_type": "code",
   "execution_count": 0,
   "metadata": {
    "application/vnd.databricks.v1+cell": {
     "cellMetadata": {
      "byteLimit": 2048000,
      "implicitDf": true,
      "rowLimit": 10000
     },
     "inputWidgets": {},
     "nuid": "569c804a-2f2d-4cfb-9702-81f991d569af",
     "showTitle": false,
     "title": ""
    }
   },
   "outputs": [],
   "source": [
    "%sql\n",
    "\n",
    "select \n",
    "to_timestamp(datas, 'yyyy-MM-dd HH:mm') datas\n",
    "from datas_2"
   ]
  },
  {
   "cell_type": "code",
   "execution_count": 0,
   "metadata": {
    "application/vnd.databricks.v1+cell": {
     "cellMetadata": {
      "byteLimit": 2048000,
      "rowLimit": 10000
     },
     "inputWidgets": {},
     "nuid": "a18a637c-9768-4321-9498-43ff20792291",
     "showTitle": false,
     "title": ""
    }
   },
   "outputs": [],
   "source": [
    "df_datas_22_tipado = spark.sql('''\n",
    "select \n",
    "    to_timestamp(datas, 'yyyy-MM-dd HH:mm') datas\n",
    "from datas_2                      \n",
    "''')\n",
    "\n",
    "display(df_datas_22_tipado)"
   ]
  },
  {
   "cell_type": "markdown",
   "metadata": {
    "application/vnd.databricks.v1+cell": {
     "cellMetadata": {
      "byteLimit": 2048000,
      "rowLimit": 10000
     },
     "inputWidgets": {},
     "nuid": "347ff76f-312a-47aa-a8d9-faf93d316c25",
     "showTitle": false,
     "title": ""
    }
   },
   "source": [
    "- Data no formato brasileiro"
   ]
  },
  {
   "cell_type": "code",
   "execution_count": 0,
   "metadata": {
    "application/vnd.databricks.v1+cell": {
     "cellMetadata": {
      "byteLimit": 2048000,
      "implicitDf": true,
      "rowLimit": 10000
     },
     "inputWidgets": {},
     "nuid": "9f80bf66-e9a3-43e8-90e6-16b532e94347",
     "showTitle": false,
     "title": ""
    }
   },
   "outputs": [],
   "source": [
    "%sql\n",
    "\n",
    "select\n",
    "    TO_DATE(datas, 'd/MM/y') datas\n",
    "from datas_3"
   ]
  },
  {
   "cell_type": "code",
   "execution_count": 0,
   "metadata": {
    "application/vnd.databricks.v1+cell": {
     "cellMetadata": {
      "byteLimit": 2048000,
      "rowLimit": 10000
     },
     "inputWidgets": {},
     "nuid": "b4357727-ff91-4710-a18a-233838ef2765",
     "showTitle": false,
     "title": ""
    }
   },
   "outputs": [],
   "source": [
    "df_datas_3_tipado = spark.sql('''\n",
    "select\n",
    "     TO_DATE(datas, 'd/MM/y') datas\n",
    "from datas_3                           \n",
    "''')\n",
    "\n",
    "display(df_datas_3_tipado)"
   ]
  },
  {
   "cell_type": "markdown",
   "metadata": {
    "application/vnd.databricks.v1+cell": {
     "cellMetadata": {
      "byteLimit": 2048000,
      "rowLimit": 10000
     },
     "inputWidgets": {},
     "nuid": "55f1d39f-2b6f-4c04-9bd3-789d0684c805",
     "showTitle": false,
     "title": ""
    }
   },
   "source": [
    "## Tipando datas pyspark"
   ]
  },
  {
   "cell_type": "code",
   "execution_count": 0,
   "metadata": {
    "application/vnd.databricks.v1+cell": {
     "cellMetadata": {
      "byteLimit": 2048000,
      "rowLimit": 10000
     },
     "inputWidgets": {},
     "nuid": "05283bb9-00b3-45e8-b2b0-c2b9362de850",
     "showTitle": false,
     "title": ""
    }
   },
   "outputs": [],
   "source": [
    "# tipando com to_date('coluna')\n",
    "df_datas_1_spark = df_datas_1\n",
    "df_datas_1_spark = df_datas_1_spark.withColumn('datas', to_date('datas'))\n",
    "\n",
    "display(df_datas_1_spark)"
   ]
  },
  {
   "cell_type": "code",
   "execution_count": 0,
   "metadata": {
    "application/vnd.databricks.v1+cell": {
     "cellMetadata": {
      "byteLimit": 2048000,
      "rowLimit": 10000
     },
     "inputWidgets": {},
     "nuid": "7f0ca31a-ae75-48ce-b6b8-402d438a0460",
     "showTitle": false,
     "title": ""
    }
   },
   "outputs": [],
   "source": [
    "# tipando com to_timestamp('coluna')\n",
    "df_datas_2_spark = df_datas_2\n",
    "df_datas_2_spark = df_datas_2_spark.withColumn('datas', to_timestamp('datas'))\n",
    "\n",
    "display(df_datas_2_spark)"
   ]
  },
  {
   "cell_type": "code",
   "execution_count": 0,
   "metadata": {
    "application/vnd.databricks.v1+cell": {
     "cellMetadata": {
      "byteLimit": 2048000,
      "rowLimit": 10000
     },
     "inputWidgets": {},
     "nuid": "c4b70400-e831-4f77-a7ec-fb8f41fbadf5",
     "showTitle": false,
     "title": ""
    }
   },
   "outputs": [],
   "source": [
    "# tipando com to_timestamp('coluna')\n",
    "df_datas_22_spark = df_datas_2\n",
    "df_datas_22_spark = df_datas_22_spark.withColumn('datas', to_timestamp('datas', 'yyyy-MM-dd HH:mm'))\n",
    "\n",
    "display(df_datas_22_spark)"
   ]
  },
  {
   "cell_type": "code",
   "execution_count": 0,
   "metadata": {
    "application/vnd.databricks.v1+cell": {
     "cellMetadata": {
      "byteLimit": 2048000,
      "rowLimit": 10000
     },
     "inputWidgets": {},
     "nuid": "0d0a3669-4163-4235-8c0f-72906cc47a3d",
     "showTitle": false,
     "title": ""
    }
   },
   "outputs": [],
   "source": [
    "# tipando com to_timestamp('coluna') com formato brasileiro\n",
    "df_datas_3_spark = df_datas_3\n",
    "df_datas_3_spark = df_datas_3_spark.withColumn('datas', to_date('datas', 'd/MM/y'))\n",
    "\n",
    "display(df_datas_3_spark)"
   ]
  },
  {
   "cell_type": "markdown",
   "metadata": {
    "application/vnd.databricks.v1+cell": {
     "cellMetadata": {
      "byteLimit": 2048000,
      "rowLimit": 10000
     },
     "inputWidgets": {},
     "nuid": "0000b1ca-0d1f-4091-a984-1951ea0e750e",
     "showTitle": false,
     "title": ""
    }
   },
   "source": [
    "## Iner, right, left join SQL"
   ]
  },
  {
   "cell_type": "code",
   "execution_count": 0,
   "metadata": {
    "application/vnd.databricks.v1+cell": {
     "cellMetadata": {
      "byteLimit": 2048000,
      "rowLimit": 10000
     },
     "inputWidgets": {},
     "nuid": "620e062f-2c71-4faf-8b97-6e2d21b044eb",
     "showTitle": false,
     "title": ""
    }
   },
   "outputs": [],
   "source": [
    "# importando dados csv\n",
    "df_carros = spark.read.format('csv').load('/estudos/modelo_carros')\n",
    "df_marcas = spark.read.format('parquet').load('/estudos/marcas_parquet').toDF('marca', 'cod_marca')\n",
    "\n",
    "# Removendo duplicados e com id = 22 para puxar os dados com join\n",
    "print(df_carros.count())\n",
    "df_carros = df_carros.where(col('_c3') != '22').distinct()\n",
    "print(df_carros.count())\n",
    "display(df_carros)\n",
    "display(df_marcas)"
   ]
  },
  {
   "cell_type": "code",
   "execution_count": 0,
   "metadata": {
    "application/vnd.databricks.v1+cell": {
     "cellMetadata": {
      "byteLimit": 2048000,
      "rowLimit": 10000
     },
     "inputWidgets": {},
     "nuid": "f9e9bb2a-055d-446e-a5be-cce80cfb36ad",
     "showTitle": false,
     "title": ""
    }
   },
   "outputs": [],
   "source": [
    "# Criando tabelas temporárias\n",
    "df_carros.createOrReplaceTempView('carros')\n",
    "df_marcas.createOrReplaceTempView('marcas')"
   ]
  },
  {
   "cell_type": "markdown",
   "metadata": {
    "application/vnd.databricks.v1+cell": {
     "cellMetadata": {
      "byteLimit": 2048000,
      "rowLimit": 10000
     },
     "inputWidgets": {},
     "nuid": "b9f7c2fe-35e5-4ad2-bbfb-9b6caaa621a5",
     "showTitle": false,
     "title": ""
    }
   },
   "source": [
    "- Inner join para trazer as marcas da tabela marcas"
   ]
  },
  {
   "cell_type": "code",
   "execution_count": 0,
   "metadata": {
    "application/vnd.databricks.v1+cell": {
     "cellMetadata": {
      "byteLimit": 2048000,
      "implicitDf": true,
      "rowLimit": 10000
     },
     "inputWidgets": {},
     "nuid": "a4224e49-40e0-4edc-8196-ff15e6ad3c5e",
     "showTitle": false,
     "title": ""
    }
   },
   "outputs": [],
   "source": [
    "%sql\n",
    "\n",
    "select c._c1 as modelos, c._c3 as cod_marca_carro, m.marca, m.cod_marca\n",
    "from carros c\n",
    "inner join marcas m\n",
    "on c._c3 = m.cod_marca"
   ]
  },
  {
   "cell_type": "code",
   "execution_count": 0,
   "metadata": {
    "application/vnd.databricks.v1+cell": {
     "cellMetadata": {
      "byteLimit": 2048000,
      "rowLimit": 10000
     },
     "inputWidgets": {},
     "nuid": "2a81207b-ba81-4bb4-96d2-6a2d057c80cf",
     "showTitle": false,
     "title": ""
    }
   },
   "outputs": [],
   "source": [
    "df_carros_innerjoin = spark.sql('''\n",
    "    select c._c1 as modelos, c._c3 as cod_marca_carro, m.marca, m.cod_marca\n",
    "    from carros c\n",
    "    inner join marcas m\n",
    "    on c._c3 = m.cod_marca\n",
    "''')\n",
    "\n",
    "display(df_carros_innerjoin)"
   ]
  },
  {
   "cell_type": "markdown",
   "metadata": {
    "application/vnd.databricks.v1+cell": {
     "cellMetadata": {
      "byteLimit": 2048000,
      "rowLimit": 10000
     },
     "inputWidgets": {},
     "nuid": "55eb99e8-8ed4-4f2a-8f19-2c38d26c808b",
     "showTitle": false,
     "title": ""
    }
   },
   "source": [
    "- left join para trazer as marcas faltantes cod_marca = 22 com null na tabela carros"
   ]
  },
  {
   "cell_type": "code",
   "execution_count": 0,
   "metadata": {
    "application/vnd.databricks.v1+cell": {
     "cellMetadata": {
      "byteLimit": 2048000,
      "implicitDf": true,
      "rowLimit": 10000
     },
     "inputWidgets": {},
     "nuid": "2fc78a75-863a-465e-9a3f-7ed3294758f7",
     "showTitle": false,
     "title": ""
    }
   },
   "outputs": [],
   "source": [
    "%sql\n",
    "\n",
    "select\n",
    "m.*, c._c1\n",
    "from marcas m\n",
    "left join carros c\n",
    "on m.cod_marca = c._c3"
   ]
  },
  {
   "cell_type": "code",
   "execution_count": 0,
   "metadata": {
    "application/vnd.databricks.v1+cell": {
     "cellMetadata": {
      "byteLimit": 2048000,
      "rowLimit": 10000
     },
     "inputWidgets": {},
     "nuid": "a558318e-d95c-4fe9-9dad-4f002d821a07",
     "showTitle": false,
     "title": ""
    }
   },
   "outputs": [],
   "source": [
    "df_carros_leftjoin = spark.sql('''\n",
    "    select\n",
    "    m.*, c._c1\n",
    "    from marcas m\n",
    "    left join carros c\n",
    "    on m.cod_marca = c._c3\n",
    "''')\n",
    "\n",
    "display(df_carros_leftjoin)"
   ]
  },
  {
   "cell_type": "markdown",
   "metadata": {
    "application/vnd.databricks.v1+cell": {
     "cellMetadata": {
      "byteLimit": 2048000,
      "rowLimit": 10000
     },
     "inputWidgets": {},
     "nuid": "8957b27b-98e8-45f5-a311-0dd234a5e093",
     "showTitle": false,
     "title": ""
    }
   },
   "source": [
    "- right join para trazer as marcas faltantes cod_marca = 22 com null na tabela marcas"
   ]
  },
  {
   "cell_type": "code",
   "execution_count": 0,
   "metadata": {
    "application/vnd.databricks.v1+cell": {
     "cellMetadata": {
      "byteLimit": 2048000,
      "implicitDf": true,
      "rowLimit": 10000
     },
     "inputWidgets": {},
     "nuid": "1ae58667-f4d8-4933-a18c-341e451c75ae",
     "showTitle": false,
     "title": ""
    }
   },
   "outputs": [],
   "source": [
    "%sql\n",
    "\n",
    "select\n",
    "m.*, c._c1\n",
    "from carros c\n",
    "right join marcas m\n",
    "on m.cod_marca = c._c3"
   ]
  },
  {
   "cell_type": "code",
   "execution_count": 0,
   "metadata": {
    "application/vnd.databricks.v1+cell": {
     "cellMetadata": {
      "byteLimit": 2048000,
      "rowLimit": 10000
     },
     "inputWidgets": {},
     "nuid": "b173700d-b46f-4783-b375-fafb183b56bb",
     "showTitle": false,
     "title": ""
    }
   },
   "outputs": [],
   "source": [
    "df_carros_rightjoin = spark.sql('''\n",
    "    select\n",
    "    m.*, c._c1\n",
    "    from carros c\n",
    "    right join marcas m\n",
    "    on m.cod_marca = c._c3\n",
    "''')\n",
    "\n",
    "display(df_carros_rightjoin)"
   ]
  },
  {
   "cell_type": "markdown",
   "metadata": {
    "application/vnd.databricks.v1+cell": {
     "cellMetadata": {
      "byteLimit": 2048000,
      "rowLimit": 10000
     },
     "inputWidgets": {},
     "nuid": "00464e2b-3ebd-4643-aa67-9bdf2ae54887",
     "showTitle": false,
     "title": ""
    }
   },
   "source": [
    "## Inner, right, left join pyspark"
   ]
  },
  {
   "cell_type": "code",
   "execution_count": 0,
   "metadata": {
    "application/vnd.databricks.v1+cell": {
     "cellMetadata": {
      "byteLimit": 2048000,
      "rowLimit": 10000
     },
     "inputWidgets": {},
     "nuid": "25e31368-8309-457c-80b1-af0c3275e02d",
     "showTitle": false,
     "title": ""
    }
   },
   "outputs": [],
   "source": [
    "# inner join df.join(df a unir, colunas iguai para join, 'inner')\n",
    "\n",
    "df_spark_innerjoin = df_carros.join(\n",
    "  df_marcas,\n",
    "  (df_carros._c3 == df_marcas.cod_marca),\n",
    "  'inner'\n",
    ")\n",
    "\n",
    "display(df_spark_innerjoin)"
   ]
  },
  {
   "cell_type": "code",
   "execution_count": 0,
   "metadata": {
    "application/vnd.databricks.v1+cell": {
     "cellMetadata": {
      "byteLimit": 2048000,
      "rowLimit": 10000
     },
     "inputWidgets": {},
     "nuid": "42f1ed71-9b0b-4374-9d77-ef4476a55a79",
     "showTitle": false,
     "title": ""
    }
   },
   "outputs": [],
   "source": [
    "# right join df.join(df a unir, colunas iguai para join, 'right') com filtro nos dados\n",
    "\n",
    "df_spark_rightjoin = df_carros['_c1', '_c3'].join(\n",
    "  df_marcas,\n",
    "  (df_carros._c3 == df_marcas.cod_marca),\n",
    "  'right'\n",
    ").select(\n",
    "  df_marcas.cod_marca,\n",
    "  df_marcas.marca,\n",
    "  df_carros._c1\n",
    ")\n",
    "\n",
    "display(df_spark_rightjoin.filter((col('cod_marca') == '22') |\n",
    "                                  (col('cod_marca') == '23')))"
   ]
  },
  {
   "cell_type": "code",
   "execution_count": 0,
   "metadata": {
    "application/vnd.databricks.v1+cell": {
     "cellMetadata": {
      "byteLimit": 2048000,
      "rowLimit": 10000
     },
     "inputWidgets": {},
     "nuid": "0e66e678-fb49-4054-b7f5-b3ebeaf781da",
     "showTitle": false,
     "title": ""
    }
   },
   "outputs": [],
   "source": [
    "# left join df.join(df a unir, colunas iguai para join, 'left') com filtro nos dados\n",
    "\n",
    "df_spark_leftjoin = df_marcas.join(\n",
    "  df_carros,\n",
    "  (df_carros._c3 == df_marcas.cod_marca),\n",
    "  'left'\n",
    ").select(\n",
    "  df_marcas.marca,\n",
    "  df_carros._c1,\n",
    "  df_carros._c3\n",
    ")\n",
    "\n",
    "display(df_spark_leftjoin.filter((col('cod_marca') == '21') |\n",
    "                                  (col('cod_marca') == '22')))"
   ]
  },
  {
   "cell_type": "markdown",
   "metadata": {
    "application/vnd.databricks.v1+cell": {
     "cellMetadata": {
      "byteLimit": 2048000,
      "rowLimit": 10000
     },
     "inputWidgets": {},
     "nuid": "8580ddff-1a50-41b6-b7f0-4a84e68e3bbf",
     "showTitle": false,
     "title": ""
    }
   },
   "source": [
    "## Funções Exists e Left semi join SQL"
   ]
  },
  {
   "cell_type": "code",
   "execution_count": 0,
   "metadata": {
    "application/vnd.databricks.v1+cell": {
     "cellMetadata": {
      "byteLimit": 2048000,
      "rowLimit": 10000
     },
     "inputWidgets": {},
     "nuid": "84d16ffe-b62f-4931-aeb3-4a58bb038d95",
     "showTitle": false,
     "title": ""
    }
   },
   "outputs": [],
   "source": [
    "# importando dados csv\n",
    "df_carros = spark.read.format('csv').load('/estudos/modelo_carros').distinct()\n",
    "\n",
    "# criando bases para comparação\n",
    "df_carros_source = df_carros.where(\n",
    "    (col('_c0') == '1') |\n",
    "    (col('_c0') == '2') | \n",
    "    (col('_c0') == '3')\n",
    ")\n",
    "\n",
    "df_carros_final = df_carros.where(\n",
    "    (col('_c0') == '1') |\n",
    "    (col('_c0') == '2') |\n",
    "    (col('_c0') == '3') |\n",
    "    (col('_c0') == '4')\n",
    ")\n",
    "\n",
    "display(df_carros_final)"
   ]
  },
  {
   "cell_type": "code",
   "execution_count": 0,
   "metadata": {
    "application/vnd.databricks.v1+cell": {
     "cellMetadata": {
      "byteLimit": 2048000,
      "rowLimit": 10000
     },
     "inputWidgets": {},
     "nuid": "352ef5e5-010e-4dcd-abcc-d54d8bca8f12",
     "showTitle": false,
     "title": ""
    }
   },
   "outputs": [],
   "source": [
    "# Criar tabela temporária para SQL\n",
    "df_carros_source.createOrReplaceTempView('source')\n",
    "df_carros_final.createOrReplaceTempView('final')"
   ]
  },
  {
   "cell_type": "markdown",
   "metadata": {
    "application/vnd.databricks.v1+cell": {
     "cellMetadata": {
      "byteLimit": 2048000,
      "rowLimit": 10000
     },
     "inputWidgets": {},
     "nuid": "fd1176e3-4a37-4857-964d-3759bf9e34d9",
     "showTitle": false,
     "title": ""
    }
   },
   "source": [
    "- Retornar todos os dados de uma tabela que existem em outra tabela"
   ]
  },
  {
   "cell_type": "code",
   "execution_count": 0,
   "metadata": {
    "application/vnd.databricks.v1+cell": {
     "cellMetadata": {
      "byteLimit": 2048000,
      "implicitDf": true,
      "rowLimit": 10000
     },
     "inputWidgets": {},
     "nuid": "09d82d39-a08e-4b0e-9685-8a063c2553ab",
     "showTitle": false,
     "title": ""
    }
   },
   "outputs": [],
   "source": [
    "%sql\n",
    "\n",
    "select * \n",
    "from final f\n",
    "where exists(\n",
    "  select * from source s \n",
    "  where s._c0 = f._c0\n",
    ")"
   ]
  },
  {
   "cell_type": "code",
   "execution_count": 0,
   "metadata": {
    "application/vnd.databricks.v1+cell": {
     "cellMetadata": {
      "byteLimit": 2048000,
      "rowLimit": 10000
     },
     "inputWidgets": {},
     "nuid": "46d4d082-b4ff-42e9-bb0d-f36e82221f53",
     "showTitle": false,
     "title": ""
    }
   },
   "outputs": [],
   "source": [
    "df_carros_exists = spark.sql('''\n",
    "select * \n",
    "from final f\n",
    "where exists(\n",
    "  select * from source s \n",
    "  where s._c0 = f._c0\n",
    ")\n",
    "''')\n",
    "display(df_carros_exists)"
   ]
  },
  {
   "cell_type": "markdown",
   "metadata": {
    "application/vnd.databricks.v1+cell": {
     "cellMetadata": {
      "byteLimit": 2048000,
      "rowLimit": 10000
     },
     "inputWidgets": {},
     "nuid": "1d1cd239-7443-4578-9ad2-cd69c241fe64",
     "showTitle": false,
     "title": ""
    }
   },
   "source": [
    "## Funções Exists e Left semi join pyspark"
   ]
  },
  {
   "cell_type": "code",
   "execution_count": 0,
   "metadata": {
    "application/vnd.databricks.v1+cell": {
     "cellMetadata": {
      "byteLimit": 2048000,
      "rowLimit": 10000
     },
     "inputWidgets": {},
     "nuid": "6069374b-e4f5-484d-86ad-cc8f1732611c",
     "showTitle": false,
     "title": ""
    }
   },
   "outputs": [],
   "source": [
    "# left semi join é equivalente ao exists do sql\n",
    "# df.join(df a unir, colunas iguai para join, 'leftsemi')\n",
    "df_carros_spark_leftsemi = df_carros_final.join(\n",
    "    df_carros_source,\n",
    "    df_carros_final._c0 == df_carros_source._c0,\n",
    "    'leftsemi'\n",
    ")\n",
    "display(df_carros_spark_leftsemi)"
   ]
  },
  {
   "cell_type": "markdown",
   "metadata": {
    "application/vnd.databricks.v1+cell": {
     "cellMetadata": {
      "byteLimit": 2048000,
      "rowLimit": 10000
     },
     "inputWidgets": {},
     "nuid": "b0c6b742-1685-4ca8-817b-39860c5de894",
     "showTitle": false,
     "title": ""
    }
   },
   "source": [
    "## Funcções Not exists e left anti join SQL\n"
   ]
  },
  {
   "cell_type": "markdown",
   "metadata": {
    "application/vnd.databricks.v1+cell": {
     "cellMetadata": {
      "byteLimit": 2048000,
      "rowLimit": 10000
     },
     "inputWidgets": {},
     "nuid": "7e060afd-2000-449b-a19b-ab713c920a32",
     "showTitle": false,
     "title": ""
    }
   },
   "source": [
    "- Retornar todos os dados de uma tabela que não existem em outra tabela"
   ]
  },
  {
   "cell_type": "code",
   "execution_count": 0,
   "metadata": {
    "application/vnd.databricks.v1+cell": {
     "cellMetadata": {
      "byteLimit": 2048000,
      "implicitDf": true,
      "rowLimit": 10000
     },
     "inputWidgets": {},
     "nuid": "d86deac1-76c2-49ad-9f50-b30f4e34b586",
     "showTitle": false,
     "title": ""
    }
   },
   "outputs": [],
   "source": [
    "%sql\n",
    "select * \n",
    "from final f\n",
    "where not exists(\n",
    "  select * from source s \n",
    "  where s._c0 = f._c0\n",
    ")"
   ]
  },
  {
   "cell_type": "code",
   "execution_count": 0,
   "metadata": {
    "application/vnd.databricks.v1+cell": {
     "cellMetadata": {
      "byteLimit": 2048000,
      "rowLimit": 10000
     },
     "inputWidgets": {},
     "nuid": "a0073692-015c-4b09-ba15-8404b933583a",
     "showTitle": false,
     "title": ""
    }
   },
   "outputs": [],
   "source": [
    "df_carros_not_exists = spark.sql('''\n",
    "select * \n",
    "from final f\n",
    "where not exists(\n",
    "  select 1 from source s \n",
    "  where s._c0 = f._c0\n",
    ")\n",
    "''')\n",
    "display(df_carros_not_exists)"
   ]
  },
  {
   "cell_type": "markdown",
   "metadata": {
    "application/vnd.databricks.v1+cell": {
     "cellMetadata": {
      "byteLimit": 2048000,
      "rowLimit": 10000
     },
     "inputWidgets": {},
     "nuid": "d563d90e-f44c-466b-b105-f7f864a24ce8",
     "showTitle": false,
     "title": ""
    }
   },
   "source": [
    "## Funcções Not exists e left anti join pyspark"
   ]
  },
  {
   "cell_type": "code",
   "execution_count": 0,
   "metadata": {
    "application/vnd.databricks.v1+cell": {
     "cellMetadata": {
      "byteLimit": 2048000,
      "rowLimit": 10000
     },
     "inputWidgets": {},
     "nuid": "7948bc30-2cf1-4b54-b20d-1cafef420508",
     "showTitle": false,
     "title": ""
    }
   },
   "outputs": [],
   "source": [
    "# left semi join é equivalente ao exists do sql\n",
    "# df.join(df a unir, colunas iguai para join, 'leftanti')\n",
    "df_carros_spark_leftantisemi = df_carros_final.join(\n",
    "    df_carros_source,\n",
    "    df_carros_final._c0 == df_carros_source._c0,\n",
    "    'leftanti'\n",
    ")\n",
    "display(df_carros_spark_leftantisemi)"
   ]
  },
  {
   "cell_type": "markdown",
   "metadata": {
    "application/vnd.databricks.v1+cell": {
     "cellMetadata": {
      "byteLimit": 2048000,
      "rowLimit": 10000
     },
     "inputWidgets": {},
     "nuid": "2e7abca8-b8df-4353-b56f-d149aeebd8f8",
     "showTitle": false,
     "title": ""
    }
   },
   "source": [
    "## Operador Not e filtrando dados nulos SQL"
   ]
  },
  {
   "cell_type": "code",
   "execution_count": 0,
   "metadata": {
    "application/vnd.databricks.v1+cell": {
     "cellMetadata": {
      "byteLimit": 2048000,
      "rowLimit": 10000
     },
     "inputWidgets": {},
     "nuid": "8aa9bb07-61a3-4d44-8bb6-6d850fd6f805",
     "showTitle": false,
     "title": ""
    }
   },
   "outputs": [],
   "source": [
    "# importando dados\n",
    "df_carros = spark.read.format('csv').load('/estudos/modelo_carros').distinct()\n",
    "\n",
    "df_carros_2 = df_carros.where(\n",
    "    (col('_c0') == '1') |\n",
    "    (col('_c0') == '2') | \n",
    "    (col('_c0') == '3')\n",
    ")\n",
    "\n",
    "# Adicionando coluna _c2 como None\n",
    "df_carros_3 = df_carros.where(\n",
    "   (col('_c0') == '4')\n",
    ").withColumn('_c2', lit(None))\n",
    "\n",
    "# unido dataframes\n",
    "df_carros = df_carros_2.union(df_carros_3)\n",
    "\n",
    "display(df_carros)"
   ]
  },
  {
   "cell_type": "code",
   "execution_count": 0,
   "metadata": {
    "application/vnd.databricks.v1+cell": {
     "cellMetadata": {
      "byteLimit": 2048000,
      "rowLimit": 10000
     },
     "inputWidgets": {},
     "nuid": "4527eccc-2d11-4309-9432-df9cb3b6eb85",
     "showTitle": false,
     "title": ""
    }
   },
   "outputs": [],
   "source": [
    "df_carros.createOrReplaceTempView('carros')"
   ]
  },
  {
   "cell_type": "code",
   "execution_count": 0,
   "metadata": {
    "application/vnd.databricks.v1+cell": {
     "cellMetadata": {
      "byteLimit": 2048000,
      "implicitDf": true,
      "rowLimit": 10000
     },
     "inputWidgets": {},
     "nuid": "70faee85-8a36-4f62-8f39-6875df8372d8",
     "showTitle": false,
     "title": ""
    }
   },
   "outputs": [],
   "source": [
    "%sql\n",
    "\n",
    "select\n",
    "*\n",
    "from carros\n",
    "where _c2 is null"
   ]
  },
  {
   "cell_type": "code",
   "execution_count": 0,
   "metadata": {
    "application/vnd.databricks.v1+cell": {
     "cellMetadata": {
      "byteLimit": 2048000,
      "implicitDf": true,
      "rowLimit": 10000
     },
     "inputWidgets": {},
     "nuid": "594af71c-7a8d-485a-bfa2-09abde2d947c",
     "showTitle": false,
     "title": ""
    }
   },
   "outputs": [],
   "source": [
    "%sql\n",
    "\n",
    "select\n",
    "*\n",
    "from carros\n",
    "where _c2 is not null"
   ]
  },
  {
   "cell_type": "code",
   "execution_count": 0,
   "metadata": {
    "application/vnd.databricks.v1+cell": {
     "cellMetadata": {
      "byteLimit": 2048000,
      "rowLimit": 10000
     },
     "inputWidgets": {},
     "nuid": "d72c060c-ea2b-42c1-8e64-dbbf72ee20dc",
     "showTitle": false,
     "title": ""
    }
   },
   "outputs": [],
   "source": [
    "df_carros_sql = spark.sql('''\n",
    "    select\n",
    "    *\n",
    "    from carros\n",
    "    where _c2 is not null                \n",
    "                          ''')\n",
    "\n",
    "display(df_carros_sql)"
   ]
  },
  {
   "cell_type": "markdown",
   "metadata": {
    "application/vnd.databricks.v1+cell": {
     "cellMetadata": {
      "byteLimit": 2048000,
      "rowLimit": 10000
     },
     "inputWidgets": {},
     "nuid": "787fa9a3-56ea-47c1-aff0-09f63721b02c",
     "showTitle": false,
     "title": ""
    }
   },
   "source": [
    "## Operador Not e filtrando dados nulos pyspark"
   ]
  },
  {
   "cell_type": "code",
   "execution_count": 0,
   "metadata": {
    "application/vnd.databricks.v1+cell": {
     "cellMetadata": {
      "byteLimit": 2048000,
      "rowLimit": 10000
     },
     "inputWidgets": {},
     "nuid": "63d09a1c-8f3d-46b4-bd9f-4d50f028a238",
     "showTitle": false,
     "title": ""
    }
   },
   "outputs": [],
   "source": [
    "# contagem de nulos\n",
    "df_carros = df3\n",
    "df_null = {col:df_carros.filter(df_carros[col].isNull()).count() for col in df_carros.columns}\n",
    "\n",
    "display(df_null)     "
   ]
  },
  {
   "cell_type": "code",
   "execution_count": 0,
   "metadata": {
    "application/vnd.databricks.v1+cell": {
     "cellMetadata": {
      "byteLimit": 2048000,
      "rowLimit": 10000
     },
     "inputWidgets": {},
     "nuid": "a86ab9a9-4280-4858-bd90-15f39e919220",
     "showTitle": false,
     "title": ""
    }
   },
   "outputs": [],
   "source": [
    "# contagem de nulos\n",
    "df_null2 = df_carros.select([count(when(isnan(c), c)).alias(c) for c in df_carros.columns])\n",
    "display(df_null2)"
   ]
  },
  {
   "cell_type": "code",
   "execution_count": 0,
   "metadata": {
    "application/vnd.databricks.v1+cell": {
     "cellMetadata": {
      "byteLimit": 2048000,
      "rowLimit": 10000
     },
     "inputWidgets": {},
     "nuid": "c997b9dd-6295-4f67-bfd3-315103b38b90",
     "showTitle": false,
     "title": ""
    }
   },
   "outputs": [],
   "source": [
    "# retornar todos os dados que  são nulos\n",
    "df_carros_spark = df_carros.where(\n",
    "  col('_c2').isNull()\n",
    ")\n",
    "display(df_carros_spark)"
   ]
  },
  {
   "cell_type": "code",
   "execution_count": 0,
   "metadata": {
    "application/vnd.databricks.v1+cell": {
     "cellMetadata": {
      "byteLimit": 2048000,
      "rowLimit": 10000
     },
     "inputWidgets": {},
     "nuid": "faab2587-7f2d-4f56-8cbc-be37b3bb3721",
     "showTitle": false,
     "title": ""
    }
   },
   "outputs": [],
   "source": [
    "# retornar todos os dados que não são nulos\n",
    "df_carros_spark = df_carros.where(\n",
    "  col('_c2').isNotNull()\n",
    ")\n",
    "display(df_carros_spark)"
   ]
  },
  {
   "cell_type": "code",
   "execution_count": 0,
   "metadata": {
    "application/vnd.databricks.v1+cell": {
     "cellMetadata": {
      "byteLimit": 2048000,
      "rowLimit": 10000
     },
     "inputWidgets": {},
     "nuid": "5a1214a4-e41c-4933-a6a3-4156aaae832f",
     "showTitle": false,
     "title": ""
    }
   },
   "outputs": [],
   "source": [
    "# retornar todos os dados que não são nulos\n",
    "df_carros_spark = df_carros.where(\n",
    "  ~col('_c2').isNull()\n",
    ")\n",
    "display(df_carros_spark)"
   ]
  },
  {
   "cell_type": "markdown",
   "metadata": {
    "application/vnd.databricks.v1+cell": {
     "cellMetadata": {
      "byteLimit": 2048000,
      "rowLimit": 10000
     },
     "inputWidgets": {},
     "nuid": "5f02d779-5a36-4884-beff-e405b8584f3f",
     "showTitle": false,
     "title": ""
    }
   },
   "source": [
    "## Funções de agregação SQL"
   ]
  },
  {
   "cell_type": "code",
   "execution_count": 0,
   "metadata": {
    "application/vnd.databricks.v1+cell": {
     "cellMetadata": {
      "byteLimit": 2048000,
      "rowLimit": 10000
     },
     "inputWidgets": {},
     "nuid": "3529cb78-bc31-4088-8923-9c48d161416c",
     "showTitle": false,
     "title": ""
    }
   },
   "outputs": [],
   "source": [
    "# importando dados\n",
    "df_carros = spark.read.format('csv').load('/estudos/modelo_carros')\n",
    "\n",
    "# Retirando símbolo $ e tipando como double\n",
    "df_carros = df_carros.withColumn('_c2', regexp_replace('_c2', '\\$',''\n",
    "                                 ).cast(DoubleType())\n",
    ")\n",
    "\n",
    "# criando tabela sql temporária\n",
    "df_carros.createOrReplaceTempView('carros')\n",
    "display(df_carros)"
   ]
  },
  {
   "cell_type": "code",
   "execution_count": 0,
   "metadata": {
    "application/vnd.databricks.v1+cell": {
     "cellMetadata": {
      "byteLimit": 2048000,
      "implicitDf": true,
      "rowLimit": 10000
     },
     "inputWidgets": {},
     "nuid": "5782a046-e25e-4009-b422-911d1eecda87",
     "showTitle": false,
     "title": ""
    }
   },
   "outputs": [],
   "source": [
    "%sql\n",
    "\n",
    "select _c1 as modelos, sum(_c2) as sum_precos, max(_c2) as max_preco, min(_c2) as min_preco\n",
    "from carros\n",
    "group by _c1\n",
    "order by max_preco desc"
   ]
  },
  {
   "cell_type": "code",
   "execution_count": 0,
   "metadata": {
    "application/vnd.databricks.v1+cell": {
     "cellMetadata": {
      "byteLimit": 2048000,
      "rowLimit": 10000
     },
     "inputWidgets": {},
     "nuid": "7aa9caf0-685f-4800-abda-eebb65cc4a99",
     "showTitle": false,
     "title": ""
    }
   },
   "outputs": [],
   "source": [
    "df_groupby_sql = spark.sql('''\n",
    "    select _c1 as modelos, sum(_c2) as sum_precos, max(_c2) as max_preco, min(_c2) as min_preco\n",
    "    from carros\n",
    "    group by _c1\n",
    "    order by max_preco desc                           \n",
    "''')\n",
    "display(df_groupby_sql)"
   ]
  },
  {
   "cell_type": "markdown",
   "metadata": {
    "application/vnd.databricks.v1+cell": {
     "cellMetadata": {
      "byteLimit": 2048000,
      "rowLimit": 10000
     },
     "inputWidgets": {},
     "nuid": "b2ac8b93-d7e3-454c-8563-e7bdc893a23d",
     "showTitle": false,
     "title": ""
    }
   },
   "source": [
    "## Funções de agregação pyspark"
   ]
  },
  {
   "cell_type": "code",
   "execution_count": 0,
   "metadata": {
    "application/vnd.databricks.v1+cell": {
     "cellMetadata": {
      "byteLimit": 2048000,
      "rowLimit": 10000
     },
     "inputWidgets": {},
     "nuid": "69cdd8fb-54a7-4696-a67c-c1f5cdf7f97a",
     "showTitle": false,
     "title": ""
    }
   },
   "outputs": [],
   "source": [
    "# Agrupando dados e ordenando com orderBy()\n",
    "df_groupby_pyspark = df_carros.groupby(\n",
    "  '_c1',\n",
    ").agg(sum('_c2').alias('sum_preco'), \n",
    "      max('_c2').alias('max_preco'), \n",
    "      min('_c2').alias('min_preco')\n",
    ").orderBy(col('max_preco').desc())\n",
    "\n",
    "display(df_groupby_pyspark)"
   ]
  },
  {
   "cell_type": "code",
   "execution_count": 0,
   "metadata": {
    "application/vnd.databricks.v1+cell": {
     "cellMetadata": {
      "byteLimit": 2048000,
      "rowLimit": 10000
     },
     "inputWidgets": {},
     "nuid": "3dca9f49-ec2b-4441-9a89-43d9117e44fd",
     "showTitle": false,
     "title": ""
    }
   },
   "outputs": [],
   "source": [
    "# Agrupando dados e ordenando com sort()\n",
    "df_groupby_pyspark = df_carros.groupby(\n",
    "  '_c1',\n",
    ").agg(sum('_c2').alias('sum_preco'), \n",
    "      max('_c2').alias('max_preco'), \n",
    "      min('_c2').alias('min_preco')\n",
    ").sort(col('max_preco').desc())\n",
    "\n",
    "display(df_groupby_pyspark)"
   ]
  },
  {
   "cell_type": "markdown",
   "metadata": {
    "application/vnd.databricks.v1+cell": {
     "cellMetadata": {
      "byteLimit": 2048000,
      "rowLimit": 10000
     },
     "inputWidgets": {},
     "nuid": "344f4b70-766e-44c5-acf6-1c7326861894",
     "showTitle": false,
     "title": ""
    }
   },
   "source": [
    "## Função row number sql"
   ]
  },
  {
   "cell_type": "code",
   "execution_count": 0,
   "metadata": {
    "application/vnd.databricks.v1+cell": {
     "cellMetadata": {
      "byteLimit": 2048000,
      "rowLimit": 10000
     },
     "inputWidgets": {},
     "nuid": "8f2ae0f9-a6ad-47bf-b34e-e484bac4a672",
     "showTitle": false,
     "title": ""
    }
   },
   "outputs": [],
   "source": [
    " # Ler formato json e retirar $ da coluna _c2\n",
    " df_carros = spark.read.format('json').load('/estudos/modelo_carros_json')\n",
    " df_carros  = df_carros.withColumn('_c2', regexp_replace('_c2', '\\$', '')\n",
    "                                   ).cast(DoubleType())\n",
    " display(df_carros)"
   ]
  },
  {
   "cell_type": "code",
   "execution_count": 0,
   "metadata": {
    "application/vnd.databricks.v1+cell": {
     "cellMetadata": {
      "byteLimit": 2048000,
      "rowLimit": 10000
     },
     "inputWidgets": {},
     "nuid": "6171eca8-2518-458a-9e38-d020c1d82c7f",
     "showTitle": false,
     "title": ""
    }
   },
   "outputs": [],
   "source": [
    "df_carros.createOrReplaceGlobalTempView('carros')"
   ]
  },
  {
   "cell_type": "markdown",
   "metadata": {
    "application/vnd.databricks.v1+cell": {
     "cellMetadata": {
      "byteLimit": 2048000,
      "rowLimit": 10000
     },
     "inputWidgets": {},
     "nuid": "ca3b9705-58d6-4fa6-86e0-30bd15475cbf",
     "showTitle": false,
     "title": ""
    }
   },
   "source": [
    "- row_number(): retorna o número sequencial de uma linha em uma partição de um conjunto de resultados\n",
    "Portanto, na query a baixo, se houver dois carros com preços diferentes, cada uma terá um índice diferente"
   ]
  },
  {
   "cell_type": "code",
   "execution_count": 0,
   "metadata": {
    "application/vnd.databricks.v1+cell": {
     "cellMetadata": {
      "byteLimit": 2048000,
      "implicitDf": true,
      "rowLimit": 10000
     },
     "inputWidgets": {},
     "nuid": "ac479a63-5a33-4087-b9f3-b7410ececbc2",
     "showTitle": false,
     "title": ""
    }
   },
   "outputs": [],
   "source": [
    "%sql\n",
    "select *,\n",
    "row_number() over (partition by _c1 order by _c2 desc) row_number\n",
    "from carros"
   ]
  },
  {
   "cell_type": "markdown",
   "metadata": {
    "application/vnd.databricks.v1+cell": {
     "cellMetadata": {
      "byteLimit": 2048000,
      "rowLimit": 10000
     },
     "inputWidgets": {},
     "nuid": "f1c18ed9-1b13-4e33-843b-fb62a1e797ca",
     "showTitle": false,
     "title": ""
    }
   },
   "source": [
    "## Função row number pyspark"
   ]
  },
  {
   "cell_type": "code",
   "execution_count": 0,
   "metadata": {
    "application/vnd.databricks.v1+cell": {
     "cellMetadata": {
      "byteLimit": 2048000,
      "rowLimit": 10000
     },
     "inputWidgets": {},
     "nuid": "fd2c128a-0fe2-4639-ad20-3f3f8c0c87c4",
     "showTitle": false,
     "title": ""
    }
   },
   "outputs": [],
   "source": [
    "from pyspark.sql.window import Window\n",
    "\n",
    "# row_number(): retorna o número sequencial de uma linha em uma partição de um conjunto de resultados.\n",
    "#  Portanto, no código spark abaixo, se houver dois carros com preços diferentes, cada uma terá um índice diferente\n",
    "df_carros_spark = df_carros.withColumn(\n",
    "  'row_number',\n",
    "  row_number().over(\n",
    "    Window.partitionBy('_c1').orderBy(col('_c2').desc())\n",
    "  )\n",
    ")\n",
    "\n",
    "display(df_carros_spark)"
   ]
  },
  {
   "cell_type": "code",
   "execution_count": 0,
   "metadata": {
    "application/vnd.databricks.v1+cell": {
     "cellMetadata": {
      "byteLimit": 2048000,
      "rowLimit": 10000
     },
     "inputWidgets": {},
     "nuid": "29a757b1-2c71-4ed8-a61a-8391f737c948",
     "showTitle": false,
     "title": ""
    }
   },
   "outputs": [],
   "source": []
  }
 ],
 "metadata": {
  "application/vnd.databricks.v1+notebook": {
   "dashboards": [],
   "environmentMetadata": null,
   "language": "python",
   "notebookMetadata": {
    "mostRecentlyExecutedCommandWithImplicitDF": {
     "commandId": 4334139791021547,
     "dataframes": [
      "_sqldf"
     ]
    },
    "pythonIndentUnit": 4
   },
   "notebookName": "estudos_1",
   "widgets": {}
  }
 },
 "nbformat": 4,
 "nbformat_minor": 0
}
